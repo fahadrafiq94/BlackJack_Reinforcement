{
 "cells": [
  {
   "cell_type": "code",
   "execution_count": 1,
   "id": "67e01146",
   "metadata": {},
   "outputs": [],
   "source": [
    "import random\n",
    "import numpy as np\n",
    "import matplotlib.pyplot as plt\n"
   ]
  },
  {
   "cell_type": "code",
   "execution_count": 2,
   "id": "cf1a6985",
   "metadata": {},
   "outputs": [],
   "source": [
    "np.random.seed(42)"
   ]
  },
  {
   "cell_type": "markdown",
   "id": "707f95d6",
   "metadata": {},
   "source": [
    "## 1. Blackjack Basic Strategy"
   ]
  },
  {
   "cell_type": "code",
   "execution_count": 3,
   "id": "b01157ca",
   "metadata": {},
   "outputs": [],
   "source": [
    "# Code is taken from Portfolio 1\n",
    "class BlackjackEnvironment:\n",
    "    def __init__(self):\n",
    "        self.deck = self.generate_deck()\n",
    "        self.player_hand = []\n",
    "        self.dealer_hand = []\n",
    "        self.bankroll = 100\n",
    "        self.bet = 20\n",
    "        self.is_playing = False\n",
    "        self.episode = []\n",
    "        \n",
    "    def generate_deck(self):\n",
    "        suits = ['hearts', 'diamonds', 'clubs', 'spades']\n",
    "        values = list(range(2, 11)) + ['jack', 'queen', 'king', 'ace']\n",
    "        deck = []\n",
    "        for value in values:\n",
    "            for suit in suits:\n",
    "                card = str(value) + '_' + suit\n",
    "                deck.append(card)\n",
    "        return deck\n",
    "\n",
    "    def draw_card(self):\n",
    "        if len(self.deck) == 0:\n",
    "            self.check_deck()\n",
    "        card = self.deck.pop(random.randint(0, len(self.deck) - 1))\n",
    "        return card\n",
    "\n",
    "    def check_deck(self):\n",
    "        if len(self.deck) == 0:\n",
    "            self.deck = self.generate_deck()\n",
    "            random.shuffle(self.deck)\n",
    "\n",
    "    def reset(self):\n",
    "        self.deck = self.generate_deck()\n",
    "        random.shuffle(self.deck)\n",
    "        self.player_hand = [self.draw_card(), self.draw_card()]\n",
    "        self.dealer_hand = [self.draw_card(), self.draw_card()]\n",
    "        self.bet = 20\n",
    "        self.episode = []\n",
    "\n",
    "    def card_value(self, card):\n",
    "        value = card.split('_')[0]\n",
    "        if value in ['jack', 'queen', 'king']:\n",
    "            return 10\n",
    "        elif value == 'ace':\n",
    "            return 11\n",
    "        else:\n",
    "            return int(value)\n",
    "\n",
    "    def hand_value(self, hand):\n",
    "        value = sum(self.card_value(card) for card in hand)\n",
    "        num_aces = sum(1 for card in hand if card.startswith('ace'))\n",
    "\n",
    "        while value > 21 and num_aces > 0:\n",
    "            value -= 10\n",
    "            num_aces -= 1\n",
    "\n",
    "        if num_aces > 0 and value > 21:\n",
    "            value -= 10\n",
    "\n",
    "        return value\n",
    "\n",
    "    def is_busted(self, hand):\n",
    "        return self.hand_value(hand) > 21\n",
    "\n",
    "    def dealer_play(self):\n",
    "        while self.hand_value(self.dealer_hand) < 17:\n",
    "            self.dealer_hand.append(self.draw_card())\n",
    "    \n",
    "    def offer_insurance(self):\n",
    "        player_value = self.hand_value(self.player_hand)\n",
    "        dealer_upcard = self.card_value(self.dealer_hand[0])\n",
    "        \n",
    "        # Player has a natural blackjack and dealer upcard is an Ace\n",
    "        if player_value == 21 and dealer_upcard == 11:\n",
    "            # Pay 3:2 for blackjack\n",
    "            self.bankroll += self.bet * 1.5 \n",
    "             # No need for insurance in this case\n",
    "            self.insurance_bet = 0 \n",
    "        elif dealer_upcard == 11:\n",
    "            # Dealer upcard is an Ace\n",
    "            # Take insurance if the deck is rich in 10-value cards\n",
    "            num_tens = sum(1 for card in self.deck if self.card_value(card) == 10)\n",
    "            num_remaining_cards = len(self.deck)\n",
    "            insurance_threshold = num_tens / num_remaining_cards\n",
    "            # threshold\n",
    "            if insurance_threshold > 0.3:  \n",
    "                # Insurance bet is half of the original bet\n",
    "                insurance_amount = min(self.bankroll, self.bet / 2)  \n",
    "                self.bankroll -= insurance_amount\n",
    "                self.insurance_bet = insurance_amount\n",
    "                if self.hand_value(self.dealer_hand) == 21:\n",
    "                    # Payout for the insurance bet\n",
    "                    self.bankroll += self.insurance_bet * 2  \n",
    "                else:\n",
    "                    pass\n",
    "            else:\n",
    "                self.insurance_bet = 0  \n",
    "\n",
    "    def double_down(self):\n",
    "        if self.bet <= self.bankroll:\n",
    "            self.bet *= 2\n",
    "            self.player_hand.append(self.draw_card())\n",
    "\n",
    "            if self.is_busted(self.player_hand):\n",
    "                self.bankroll -= self.bet\n",
    "                self.episode.append((self.get_state(), 'double_down', -1))\n",
    "            else:\n",
    "                self.dealer_play()\n",
    "                player_value = self.hand_value(self.player_hand)\n",
    "                dealer_value = self.hand_value(self.dealer_hand)\n",
    "\n",
    "                if self.is_busted(self.dealer_hand) or player_value > dealer_value:\n",
    "                    self.bankroll += self.bet\n",
    "                    self.episode.append((self.get_state(), 'double_down', 1))\n",
    "                elif dealer_value > player_value:\n",
    "                    self.bankroll -= self.bet\n",
    "                    self.episode.append((self.get_state(), 'double_down', -1))\n",
    "                else:\n",
    "                    self.episode.append((self.get_state(), 'double_down', 0))\n",
    "        else:\n",
    "            pass\n",
    "\n",
    "    def place_bet(self):\n",
    "        self.bet = 20\n",
    "\n",
    "    def split_pair(self):\n",
    "        if len(self.player_hand) == 2 and self.card_value(self.player_hand[0]) == self.card_value(self.player_hand[1]):\n",
    "            card_value = self.card_value(self.player_hand[0])\n",
    "            print(f\"Splitting {card_value}'s...\")\n",
    "            # Create two separate hands from the pair of cards\n",
    "            hand1 = [self.player_hand[0], self.draw_card()]\n",
    "            hand2 = [self.player_hand[1], self.draw_card()]\n",
    "            # Update player_hand to a list of split hands\n",
    "            self.player_hand = [hand1, hand2]  \n",
    "        else:\n",
    "            pass\n",
    "        \n",
    "    def hit(self):\n",
    "        self.player_hand.append(self.draw_card())\n",
    "\n",
    "    def stand(self):\n",
    "        self.dealer_play()\n",
    "        player_value = self.hand_value(self.player_hand)\n",
    "        dealer_value = self.hand_value(self.dealer_hand)\n",
    "\n",
    "        if self.is_busted(self.dealer_hand):\n",
    "            self.bankroll += self.bet\n",
    "            self.episode.append((self.get_state(), 'stand', 1))\n",
    "        elif player_value > dealer_value:\n",
    "            self.bankroll += self.bet\n",
    "            self.episode.append((self.get_state(), 'stand', 1))\n",
    "        elif dealer_value > player_value:\n",
    "            self.bankroll -= self.bet\n",
    "            self.episode.append((self.get_state(), 'stand', -1))\n",
    "        else:\n",
    "            self.episode.append((self.get_state(), 'stand', 0))\n",
    "\n",
    "    def get_state(self):\n",
    "        return tuple(self.player_hand), self.dealer_hand[0]\n",
    "\n",
    "    def play_hand(self, hand):\n",
    "         # Offer insurance before playing the hand\n",
    "        self.offer_insurance() \n",
    "        while True:\n",
    "            if isinstance(hand[0], list):\n",
    "                for subhand in hand:\n",
    "                    self.play_hand(subhand)\n",
    "                break\n",
    "\n",
    "            player_value = self.hand_value(hand)\n",
    "            dealer_upcard = self.card_value(self.dealer_hand[0])\n",
    "\n",
    "            if player_value <= 8:\n",
    "                hand.append(self.draw_card())\n",
    "                if self.is_busted(hand):\n",
    "                    # Deduct the minimum between the bet and bankroll\n",
    "                    self.bankroll -= min(self.bankroll, self.bet)  \n",
    "                    self.episode.append((self.get_state(), 'hit', -1))\n",
    "                    break\n",
    "\n",
    "            elif player_value >= 17:\n",
    "                self.dealer_play()\n",
    "                if self.is_busted(self.dealer_hand):\n",
    "                    self.bankroll += self.bet\n",
    "                    self.episode.append((self.get_state(), 'stand', 1))\n",
    "                else:\n",
    "                    player_value = self.hand_value(hand)\n",
    "                    dealer_value = self.hand_value(self.dealer_hand)\n",
    "                    if player_value > dealer_value:\n",
    "                        self.bankroll += self.bet\n",
    "                        self.episode.append((self.get_state(), 'stand', 1))\n",
    "                    elif dealer_value > player_value:\n",
    "                        # Deduct the minimum between the bet and bankroll\n",
    "                        self.bankroll -= min(self.bankroll, self.bet)  \n",
    "                        self.episode.append((self.get_state(), 'stand', -1))\n",
    "                    else:\n",
    "                        self.episode.append((self.get_state(), 'stand', 0))\n",
    "                break\n",
    "\n",
    "            elif 2 <= dealer_upcard <= 6:\n",
    "                self.dealer_play()\n",
    "                if self.is_busted(self.dealer_hand):\n",
    "                    self.bankroll += self.bet\n",
    "                    self.episode.append((self.get_state(), 'stand', 1))\n",
    "                else:\n",
    "                    player_value = self.hand_value(hand)\n",
    "                    dealer_value = self.hand_value(self.dealer_hand)\n",
    "                    if player_value > dealer_value:\n",
    "                        self.bankroll += self.bet\n",
    "                        self.episode.append((self.get_state(), 'stand', 1))\n",
    "                    elif dealer_value > player_value:\n",
    "                         # Deduct the minimum between the bet and bankroll\n",
    "                        self.bankroll -= min(self.bankroll, self.bet) \n",
    "                        self.episode.append((self.get_state(), 'stand', -1))\n",
    "                    else:\n",
    "                        self.episode.append((self.get_state(), 'stand', 0))\n",
    "                break\n",
    "\n",
    "            elif player_value == 9 or player_value == 10 or player_value == 11:\n",
    "                self.double_down()\n",
    "                self.episode.append((self.get_state(), 'double_down', 1))\n",
    "                break\n",
    "\n",
    "            elif player_value == self.card_value(hand[0]):\n",
    "                self.split_pair()\n",
    "                self.episode.append((self.get_state(), 'split', 0))\n",
    "\n",
    "                for subhand in self.player_hand:\n",
    "                    self.episode.append((self.get_state(), 'split', 0))\n",
    "                    self.play_hand(subhand)\n",
    "                break\n",
    "\n",
    "            else:\n",
    "                hand.append(self.draw_card())\n",
    "                if self.is_busted(hand):\n",
    "                    # Deduct the minimum between the bet and bankroll\n",
    "                    self.bankroll -= min(self.bankroll, self.bet)  \n",
    "                    self.episode.append((self.get_state(), 'hit', -1))\n",
    "                    break\n",
    "\n",
    "    def get_episode(self):\n",
    "        # Wrap the episode list in another list\n",
    "        return [self.episode]  \n",
    "\n",
    "    def play(self, num_episodes, epsilon):\n",
    "        print(\"Welcome to Blackjack!\")\n",
    "        print(f\"Your current bankroll: {self.bankroll}\")\n",
    "        self.is_playing = True\n",
    "        # Variable to track the current episode number\n",
    "        current_episode = 0  \n",
    "        # Collect all episodes\n",
    "        all_episodes = []  \n",
    "\n",
    "        for _ in range(num_episodes):\n",
    "            self.reset()\n",
    "            self.place_bet()\n",
    "            self.play_hand(self.player_hand)\n",
    "            # Get the episode for the current game\n",
    "            episode = self.get_episode()  \n",
    "            # Add the episode to the list of all episodes\n",
    "            all_episodes.extend(episode)  \n",
    "            if _ < num_episodes - 1:\n",
    "                # Reset the episode list for the next episode\n",
    "                self.episode = []  \n",
    "                \n",
    "        print(\"\\nThank you for playing Blackjack!\")\n",
    "        print(f\"Final Bankroll: {self.bankroll}\")\n",
    "\n",
    "        current_episode = _ + 1\n",
    "        agent.update_policy(all_episodes, alpha, gamma)\n",
    "        # Update the policy using all episodes\n",
    "        return all_episodes\n",
    "\n",
    "    def calculate_performance_metrics(self, num_episodes):\n",
    "        total_bankroll = 0\n",
    "        total_winnings = 0\n",
    "        total_wins = 0\n",
    "\n",
    "        for _ in range(num_episodes):\n",
    "            self.reset()\n",
    "            self.place_bet()\n",
    "            self.play_hand(self.player_hand)\n",
    "\n",
    "            total_bankroll += self.bankroll\n",
    "             # Calculate the winnings relative to the initial bankroll\n",
    "            total_winnings += self.bankroll - 100 \n",
    "            if self.bankroll > 100:\n",
    "                total_wins += 1\n",
    "\n",
    "        average_bankroll = total_bankroll / num_episodes\n",
    "        win_rate = total_wins / num_episodes\n",
    "        average_winnings = total_winnings / num_episodes\n",
    "\n",
    "        return average_bankroll, win_rate, average_winnings\n",
    "    \n",
    "    \n",
    "   \n",
    "\n"
   ]
  },
  {
   "cell_type": "code",
   "execution_count": 4,
   "id": "e5a0208a",
   "metadata": {},
   "outputs": [],
   "source": [
    "# Define a function to calculate cumulative rewards from the episodes\n",
    "def calculate_cumulative_rewards(episodes):\n",
    "    cumulative_rewards = []\n",
    "    cumulative_reward = 0\n",
    "    for episode in episodes:\n",
    "        _, _, rewards = zip(*episode)\n",
    "        cumulative_reward += sum(rewards)\n",
    "        cumulative_rewards.append(cumulative_reward)\n",
    "    return cumulative_rewards"
   ]
  },
  {
   "cell_type": "code",
   "execution_count": 5,
   "id": "83c0704e",
   "metadata": {},
   "outputs": [],
   "source": [
    "def plot_cumulative_rewards(episodes_agent1 , episodes_agent2):\n",
    "    # Calculate cumulative reward\n",
    "    cumulative_rewards_on = calculate_cumulative_rewards(episodes_agent1)\n",
    "    cumulative_rewards_off = calculate_cumulative_rewards(episodes_agent2)\n",
    "\n",
    "    # Plot the cumulative rewards for both agents in one graph\n",
    "    plt.plot(range(1, num_episodes + 1), cumulative_rewards_on, label='On-Policy')\n",
    "    plt.plot(range(1, num_episodes + 1), cumulative_rewards_off, label='Off-Policy')\n",
    "    plt.xlabel('Episode')\n",
    "    plt.ylabel('Cumulative Reward')\n",
    "    plt.title('Cumulative Reward vs. Episode')\n",
    "    plt.legend()\n",
    "    plt.grid(True)\n",
    "    plt.show()"
   ]
  },
  {
   "cell_type": "markdown",
   "id": "90850132",
   "metadata": {},
   "source": [
    "## 1.1. On-Policy "
   ]
  },
  {
   "cell_type": "code",
   "execution_count": 6,
   "id": "aaf5799a",
   "metadata": {},
   "outputs": [],
   "source": [
    "class OnPolicyBlackjackAgent:\n",
    "    def __init__(self):\n",
    "        self.Q = {}\n",
    "        self.N = {}\n",
    "\n",
    "    def get_action(self, state, epsilon):\n",
    "        action_values = self.Q.get(state, {})\n",
    "        if action_values:\n",
    "            values = np.array(list(action_values.values()))\n",
    "            probabilities = np.exp(values / epsilon) / np.sum(np.exp(values / epsilon))\n",
    "            actions = list(action_values.keys())\n",
    "            return np.random.choice(actions, p=probabilities)\n",
    "        else:\n",
    "            return random.choice(['hit', 'stand', 'double_down', 'split'])\n",
    "\n",
    "    def update_policy(self, episodes, alpha, gamma):\n",
    "        for episode in episodes:\n",
    "            if not episode:\n",
    "                # Skip empty episodes\n",
    "                continue  \n",
    "\n",
    "            states, actions, rewards = zip(*episode)\n",
    "            G = 0\n",
    "            for t in reversed(range(len(states))):\n",
    "                state = states[t]\n",
    "                action = actions[t]\n",
    "                reward = rewards[t]\n",
    "                G = gamma * G + reward\n",
    "                self.N[state] = self.N.get(state, {})\n",
    "                self.N[state][action] = self.N[state].get(action, 0) + 1\n",
    "                alpha_t = alpha / self.N[state][action]\n",
    "                self.Q[state] = self.Q.get(state, {})\n",
    "                self.Q[state][action] = self.Q[state].get(action, 0) + alpha_t * (G - self.Q[state].get(action, 0))"
   ]
  },
  {
   "cell_type": "code",
   "execution_count": 7,
   "id": "794e21ac",
   "metadata": {},
   "outputs": [
    {
     "name": "stdout",
     "output_type": "stream",
     "text": [
      "Welcome to Blackjack!\n",
      "Your current bankroll: 100\n",
      "\n",
      "Thank you for playing Blackjack!\n",
      "Final Bankroll: 0.0\n",
      "Average Bankroll: 101.50285\n",
      "Win Rate: 0.366785\n",
      "Average Winnings: 1.50285\n"
     ]
    }
   ],
   "source": [
    "agent = OnPolicyBlackjackAgent()\n",
    "environment = BlackjackEnvironment()\n",
    "\n",
    "num_episodes = 200000  # number of episodes\n",
    "epsilon = 1  # exploration rate\n",
    "alpha = 0.5 # learning rate \n",
    "gamma = 0.9  #discount factor \n",
    "\n",
    "agent.update_policy(environment.get_episode(), alpha, gamma)\n",
    "on_policy_episodes = environment.play(num_episodes, epsilon)\n",
    "average_bankroll, win_rate, average_winnings = environment.calculate_performance_metrics(num_episodes)\n",
    "print(f\"Average Bankroll: {average_bankroll}\")\n",
    "print(f\"Win Rate: {win_rate}\")\n",
    "print(f\"Average Winnings: {average_winnings}\")"
   ]
  },
  {
   "cell_type": "markdown",
   "id": "e41ebeef",
   "metadata": {},
   "source": [
    "### 1.1.1 Different Learning rates"
   ]
  },
  {
   "cell_type": "code",
   "execution_count": 8,
   "id": "79abf892",
   "metadata": {},
   "outputs": [
    {
     "name": "stdout",
     "output_type": "stream",
     "text": [
      "Welcome to Blackjack!\n",
      "Your current bankroll: 100\n",
      "\n",
      "Thank you for playing Blackjack!\n",
      "Final Bankroll: 20.0\n",
      "Average Bankroll: 112.7072\n",
      "Win Rate: 0.37675\n",
      "Average Winnings: 12.7072\n"
     ]
    }
   ],
   "source": [
    "agent = OnPolicyBlackjackAgent()\n",
    "environment = BlackjackEnvironment()\n",
    "\n",
    "num_episodes = 200000  # number of episodes\n",
    "epsilon = 0.1  # exploration rate\n",
    "alpha = 0.1 # learning rate \n",
    "gamma = 0.9  #discount factor \n",
    "\n",
    "agent.update_policy(environment.get_episode(), alpha, gamma)\n",
    "on_policy_episodes = environment.play(num_episodes, epsilon)\n",
    "average_bankroll, win_rate, average_winnings = environment.calculate_performance_metrics(num_episodes)\n",
    "print(f\"Average Bankroll: {average_bankroll}\")\n",
    "print(f\"Win Rate: {win_rate}\")\n",
    "print(f\"Average Winnings: {average_winnings}\")"
   ]
  },
  {
   "cell_type": "code",
   "execution_count": 9,
   "id": "0c69104b",
   "metadata": {},
   "outputs": [
    {
     "name": "stdout",
     "output_type": "stream",
     "text": [
      "Welcome to Blackjack!\n",
      "Your current bankroll: 100\n",
      "\n",
      "Thank you for playing Blackjack!\n",
      "Final Bankroll: 60.0\n",
      "Average Bankroll: 103.02475\n",
      "Win Rate: 0.353895\n",
      "Average Winnings: 3.02475\n"
     ]
    }
   ],
   "source": [
    "agent = OnPolicyBlackjackAgent()\n",
    "environment = BlackjackEnvironment()\n",
    "\n",
    "num_episodes = 200000  # number of episodes\n",
    "epsilon = 0.1  # exploration rate\n",
    "alpha = 0.3 # learning rate \n",
    "gamma = 0.9  #discount factor \n",
    "\n",
    "agent.update_policy(environment.get_episode(), alpha, gamma)\n",
    "on_policy_episodes = environment.play(num_episodes, epsilon)\n",
    "average_bankroll, win_rate, average_winnings = environment.calculate_performance_metrics(num_episodes)\n",
    "print(f\"Average Bankroll: {average_bankroll}\")\n",
    "print(f\"Win Rate: {win_rate}\")\n",
    "print(f\"Average Winnings: {average_winnings}\")"
   ]
  },
  {
   "cell_type": "code",
   "execution_count": 10,
   "id": "043cffb0",
   "metadata": {},
   "outputs": [
    {
     "name": "stdout",
     "output_type": "stream",
     "text": [
      "Welcome to Blackjack!\n",
      "Your current bankroll: 100\n",
      "\n",
      "Thank you for playing Blackjack!\n",
      "Final Bankroll: 50.0\n",
      "Average Bankroll: 111.01845\n",
      "Win Rate: 0.370165\n",
      "Average Winnings: 11.01845\n"
     ]
    }
   ],
   "source": [
    "agent = OnPolicyBlackjackAgent()\n",
    "environment = BlackjackEnvironment()\n",
    "\n",
    "num_episodes = 200000  # number of episodes\n",
    "epsilon = 0.1  # exploration rate\n",
    "alpha = 0.5 # learning rate \n",
    "gamma = 0.9  #discount factor \n",
    "\n",
    "agent.update_policy(environment.get_episode(), alpha, gamma)\n",
    "on_policy_episodes = environment.play(num_episodes, epsilon)\n",
    "average_bankroll, win_rate, average_winnings = environment.calculate_performance_metrics(num_episodes)\n",
    "print(f\"Average Bankroll: {average_bankroll}\")\n",
    "print(f\"Win Rate: {win_rate}\")\n",
    "print(f\"Average Winnings: {average_winnings}\")"
   ]
  },
  {
   "cell_type": "code",
   "execution_count": 11,
   "id": "c249197b",
   "metadata": {},
   "outputs": [
    {
     "name": "stdout",
     "output_type": "stream",
     "text": [
      "Welcome to Blackjack!\n",
      "Your current bankroll: 100\n",
      "\n",
      "Thank you for playing Blackjack!\n",
      "Final Bankroll: 40.0\n",
      "Average Bankroll: 106.06625\n",
      "Win Rate: 0.35902\n",
      "Average Winnings: 6.06625\n"
     ]
    }
   ],
   "source": [
    "agent = OnPolicyBlackjackAgent()\n",
    "environment = BlackjackEnvironment()\n",
    "\n",
    "num_episodes = 200000  # number of episodes\n",
    "epsilon = 0.1  # exploration rate\n",
    "alpha = 0.7 # learning rate \n",
    "gamma = 0.9  #discount factor \n",
    "\n",
    "agent.update_policy(environment.get_episode(), alpha, gamma)\n",
    "on_policy_episodes = environment.play(num_episodes, epsilon)\n",
    "average_bankroll, win_rate, average_winnings = environment.calculate_performance_metrics(num_episodes)\n",
    "print(f\"Average Bankroll: {average_bankroll}\")\n",
    "print(f\"Win Rate: {win_rate}\")\n",
    "print(f\"Average Winnings: {average_winnings}\")"
   ]
  },
  {
   "cell_type": "code",
   "execution_count": 12,
   "id": "a4259fa4",
   "metadata": {},
   "outputs": [
    {
     "name": "stdout",
     "output_type": "stream",
     "text": [
      "Welcome to Blackjack!\n",
      "Your current bankroll: 100\n",
      "\n",
      "Thank you for playing Blackjack!\n",
      "Final Bankroll: 470.0\n",
      "Average Bankroll: 101.05355\n",
      "Win Rate: 0.3438\n",
      "Average Winnings: 1.05355\n"
     ]
    }
   ],
   "source": [
    "agent = OnPolicyBlackjackAgent()\n",
    "environment = BlackjackEnvironment()\n",
    "\n",
    "num_episodes = 200000  # number of episodes\n",
    "epsilon = 0.1  # exploration rate\n",
    "alpha = 0.9 # learning rate \n",
    "gamma = 0.9  #discount factor \n",
    "\n",
    "agent.update_policy(environment.get_episode(), alpha, gamma)\n",
    "on_policy_episodes = environment.play(num_episodes, epsilon)\n",
    "average_bankroll, win_rate, average_winnings = environment.calculate_performance_metrics(num_episodes)\n",
    "print(f\"Average Bankroll: {average_bankroll}\")\n",
    "print(f\"Win Rate: {win_rate}\")\n",
    "print(f\"Average Winnings: {average_winnings}\")"
   ]
  },
  {
   "cell_type": "markdown",
   "id": "b257ecae",
   "metadata": {},
   "source": [
    "### 1.1.2. Different Epsilon Values"
   ]
  },
  {
   "cell_type": "code",
   "execution_count": 13,
   "id": "d2bd42e4",
   "metadata": {},
   "outputs": [
    {
     "name": "stdout",
     "output_type": "stream",
     "text": [
      "Welcome to Blackjack!\n",
      "Your current bankroll: 100\n",
      "\n",
      "Thank you for playing Blackjack!\n",
      "Final Bankroll: 140.0\n",
      "Average Bankroll: 96.6583\n",
      "Win Rate: 0.343615\n",
      "Average Winnings: -3.3417\n"
     ]
    }
   ],
   "source": [
    "agent = OnPolicyBlackjackAgent()\n",
    "environment = BlackjackEnvironment()\n",
    "\n",
    "num_episodes = 200000  # number of episodes\n",
    "epsilon = 0.1  # exploration rate\n",
    "alpha = 0.5 # learning rate \n",
    "gamma = 0.9  #discount factor \n",
    "\n",
    "agent.update_policy(environment.get_episode(), alpha, gamma)\n",
    "on_policy_episodes = environment.play(num_episodes, epsilon)\n",
    "average_bankroll, win_rate, average_winnings = environment.calculate_performance_metrics(num_episodes)\n",
    "print(f\"Average Bankroll: {average_bankroll}\")\n",
    "print(f\"Win Rate: {win_rate}\")\n",
    "print(f\"Average Winnings: {average_winnings}\")"
   ]
  },
  {
   "cell_type": "code",
   "execution_count": 14,
   "id": "93b01f54",
   "metadata": {},
   "outputs": [
    {
     "name": "stdout",
     "output_type": "stream",
     "text": [
      "Welcome to Blackjack!\n",
      "Your current bankroll: 100\n",
      "\n",
      "Thank you for playing Blackjack!\n",
      "Final Bankroll: 20.0\n",
      "Average Bankroll: 106.3245\n",
      "Win Rate: 0.36168\n",
      "Average Winnings: 6.3245\n"
     ]
    }
   ],
   "source": [
    "agent = OnPolicyBlackjackAgent()\n",
    "environment = BlackjackEnvironment()\n",
    "\n",
    "num_episodes = 200000  # number of episodes\n",
    "epsilon = 0.3  # exploration rate\n",
    "alpha = 0.5 # learning rate \n",
    "gamma = 0.9  #discount factor \n",
    "\n",
    "agent.update_policy(environment.get_episode(), alpha, gamma)\n",
    "on_policy_episodes = environment.play(num_episodes, epsilon)\n",
    "average_bankroll, win_rate, average_winnings = environment.calculate_performance_metrics(num_episodes)\n",
    "print(f\"Average Bankroll: {average_bankroll}\")\n",
    "print(f\"Win Rate: {win_rate}\")\n",
    "print(f\"Average Winnings: {average_winnings}\")"
   ]
  },
  {
   "cell_type": "code",
   "execution_count": 15,
   "id": "ebd01f90",
   "metadata": {},
   "outputs": [
    {
     "name": "stdout",
     "output_type": "stream",
     "text": [
      "Welcome to Blackjack!\n",
      "Your current bankroll: 100\n",
      "\n",
      "Thank you for playing Blackjack!\n",
      "Final Bankroll: 40.0\n",
      "Average Bankroll: 98.3307\n",
      "Win Rate: 0.346305\n",
      "Average Winnings: -1.6693\n"
     ]
    }
   ],
   "source": [
    "agent = OnPolicyBlackjackAgent()\n",
    "environment = BlackjackEnvironment()\n",
    "\n",
    "num_episodes = 200000  # number of episodes\n",
    "epsilon = 0.5  # exploration rate\n",
    "alpha = 0.5 # learning rate \n",
    "gamma = 0.9  #discount factor \n",
    "\n",
    "agent.update_policy(environment.get_episode(), alpha, gamma)\n",
    "on_policy_episodes = environment.play(num_episodes, epsilon)\n",
    "average_bankroll, win_rate, average_winnings = environment.calculate_performance_metrics(num_episodes)\n",
    "print(f\"Average Bankroll: {average_bankroll}\")\n",
    "print(f\"Win Rate: {win_rate}\")\n",
    "print(f\"Average Winnings: {average_winnings}\")"
   ]
  },
  {
   "cell_type": "code",
   "execution_count": 16,
   "id": "2872b26e",
   "metadata": {},
   "outputs": [
    {
     "name": "stdout",
     "output_type": "stream",
     "text": [
      "Welcome to Blackjack!\n",
      "Your current bankroll: 100\n",
      "\n",
      "Thank you for playing Blackjack!\n",
      "Final Bankroll: 0.0\n",
      "Average Bankroll: 103.1894\n",
      "Win Rate: 0.350955\n",
      "Average Winnings: 3.1894\n"
     ]
    }
   ],
   "source": [
    "agent = OnPolicyBlackjackAgent()\n",
    "environment = BlackjackEnvironment()\n",
    "\n",
    "num_episodes = 200000  # number of episodes\n",
    "epsilon = 0.7  # exploration rate\n",
    "alpha = 0.5 # learning rate \n",
    "gamma = 0.9  #discount factor \n",
    "\n",
    "agent.update_policy(environment.get_episode(), alpha, gamma)\n",
    "on_policy_episodes = environment.play(num_episodes, epsilon)\n",
    "average_bankroll, win_rate, average_winnings = environment.calculate_performance_metrics(num_episodes)\n",
    "print(f\"Average Bankroll: {average_bankroll}\")\n",
    "print(f\"Win Rate: {win_rate}\")\n",
    "print(f\"Average Winnings: {average_winnings}\")"
   ]
  },
  {
   "cell_type": "code",
   "execution_count": 17,
   "id": "f49dc9b0",
   "metadata": {},
   "outputs": [
    {
     "name": "stdout",
     "output_type": "stream",
     "text": [
      "Welcome to Blackjack!\n",
      "Your current bankroll: 100\n",
      "\n",
      "Thank you for playing Blackjack!\n",
      "Final Bankroll: 0.0\n",
      "Average Bankroll: 108.1453\n",
      "Win Rate: 0.368635\n",
      "Average Winnings: 8.1453\n"
     ]
    }
   ],
   "source": [
    "agent = OnPolicyBlackjackAgent()\n",
    "environment = BlackjackEnvironment()\n",
    "\n",
    "num_episodes = 200000  # number of episodes\n",
    "epsilon = 0.9  # exploration rate\n",
    "alpha = 0.5 # learning rate \n",
    "gamma = 0.9  #discount factor \n",
    "\n",
    "agent.update_policy(environment.get_episode(), alpha, gamma)\n",
    "on_policy_episodes = environment.play(num_episodes, epsilon)\n",
    "average_bankroll, win_rate, average_winnings = environment.calculate_performance_metrics(num_episodes)\n",
    "print(f\"Average Bankroll: {average_bankroll}\")\n",
    "print(f\"Win Rate: {win_rate}\")\n",
    "print(f\"Average Winnings: {average_winnings}\")"
   ]
  },
  {
   "cell_type": "markdown",
   "id": "cd0d98fe",
   "metadata": {},
   "source": [
    "### 1.1.3. Different Discount Factor"
   ]
  },
  {
   "cell_type": "code",
   "execution_count": 18,
   "id": "570aa56e",
   "metadata": {},
   "outputs": [
    {
     "name": "stdout",
     "output_type": "stream",
     "text": [
      "Welcome to Blackjack!\n",
      "Your current bankroll: 100\n",
      "\n",
      "Thank you for playing Blackjack!\n",
      "Final Bankroll: 90.0\n",
      "Average Bankroll: 105.0832\n",
      "Win Rate: 0.362585\n",
      "Average Winnings: 5.0832\n"
     ]
    }
   ],
   "source": [
    "agent = OnPolicyBlackjackAgent()\n",
    "environment = BlackjackEnvironment()\n",
    "\n",
    "num_episodes = 200000  # number of episodes\n",
    "epsilon = 0.1  # exploration rate\n",
    "alpha = 0.5 # learning rate \n",
    "gamma = 0.7  #discount factor \n",
    "\n",
    "agent.update_policy(environment.get_episode(), alpha, gamma)\n",
    "on_policy_episodes = environment.play(num_episodes, epsilon)\n",
    "average_bankroll, win_rate, average_winnings = environment.calculate_performance_metrics(num_episodes)\n",
    "print(f\"Average Bankroll: {average_bankroll}\")\n",
    "print(f\"Win Rate: {win_rate}\")\n",
    "print(f\"Average Winnings: {average_winnings}\")"
   ]
  },
  {
   "cell_type": "code",
   "execution_count": 19,
   "id": "e249866b",
   "metadata": {},
   "outputs": [
    {
     "name": "stdout",
     "output_type": "stream",
     "text": [
      "Welcome to Blackjack!\n",
      "Your current bankroll: 100\n",
      "\n",
      "Thank you for playing Blackjack!\n",
      "Final Bankroll: 180.0\n",
      "Average Bankroll: 105.82305\n",
      "Win Rate: 0.370285\n",
      "Average Winnings: 5.82305\n"
     ]
    }
   ],
   "source": [
    "agent = OnPolicyBlackjackAgent()\n",
    "environment = BlackjackEnvironment()\n",
    "\n",
    "num_episodes = 200000  # number of episodes\n",
    "epsilon = 0.1  # exploration rate\n",
    "alpha = 0.5 # learning rate \n",
    "gamma = 0.8  #discount factor \n",
    "\n",
    "agent.update_policy(environment.get_episode(), alpha, gamma)\n",
    "on_policy_episodes = environment.play(num_episodes, epsilon)\n",
    "average_bankroll, win_rate, average_winnings = environment.calculate_performance_metrics(num_episodes)\n",
    "print(f\"Average Bankroll: {average_bankroll}\")\n",
    "print(f\"Win Rate: {win_rate}\")\n",
    "print(f\"Average Winnings: {average_winnings}\")"
   ]
  },
  {
   "cell_type": "code",
   "execution_count": 20,
   "id": "d49a78c4",
   "metadata": {},
   "outputs": [
    {
     "name": "stdout",
     "output_type": "stream",
     "text": [
      "Welcome to Blackjack!\n",
      "Your current bankroll: 100\n",
      "\n",
      "Thank you for playing Blackjack!\n",
      "Final Bankroll: 0.0\n",
      "Average Bankroll: 102.69825\n",
      "Win Rate: 0.359705\n",
      "Average Winnings: 2.69825\n"
     ]
    }
   ],
   "source": [
    "agent = OnPolicyBlackjackAgent()\n",
    "environment = BlackjackEnvironment()\n",
    "\n",
    "num_episodes = 200000  # number of episodes\n",
    "epsilon = 0.1  # exploration rate\n",
    "alpha = 0.5 # learning rate \n",
    "gamma = 0.9  #discount factor \n",
    "\n",
    "agent.update_policy(environment.get_episode(), alpha, gamma)\n",
    "on_policy_episodes = environment.play(num_episodes, epsilon)\n",
    "average_bankroll, win_rate, average_winnings = environment.calculate_performance_metrics(num_episodes)\n",
    "print(f\"Average Bankroll: {average_bankroll}\")\n",
    "print(f\"Win Rate: {win_rate}\")\n",
    "print(f\"Average Winnings: {average_winnings}\")"
   ]
  },
  {
   "cell_type": "code",
   "execution_count": 21,
   "id": "2fa4ae9e",
   "metadata": {},
   "outputs": [
    {
     "name": "stdout",
     "output_type": "stream",
     "text": [
      "Welcome to Blackjack!\n",
      "Your current bankroll: 100\n",
      "\n",
      "Thank you for playing Blackjack!\n",
      "Final Bankroll: 0.0\n",
      "Average Bankroll: 103.6169\n",
      "Win Rate: 0.36545\n",
      "Average Winnings: 3.6169\n"
     ]
    }
   ],
   "source": [
    "agent = OnPolicyBlackjackAgent()\n",
    "environment = BlackjackEnvironment()\n",
    "\n",
    "num_episodes = 200000  # number of episodes\n",
    "epsilon = 0.1  # exploration rate\n",
    "alpha = 0.5 # learning rate \n",
    "gamma = 0.95  #discount factor \n",
    "\n",
    "agent.update_policy(environment.get_episode(), alpha, gamma)\n",
    "on_policy_episodes = environment.play(num_episodes, epsilon)\n",
    "average_bankroll, win_rate, average_winnings = environment.calculate_performance_metrics(num_episodes)\n",
    "print(f\"Average Bankroll: {average_bankroll}\")\n",
    "print(f\"Win Rate: {win_rate}\")\n",
    "print(f\"Average Winnings: {average_winnings}\")"
   ]
  },
  {
   "cell_type": "code",
   "execution_count": 22,
   "id": "5e8c50cc",
   "metadata": {},
   "outputs": [
    {
     "name": "stdout",
     "output_type": "stream",
     "text": [
      "Welcome to Blackjack!\n",
      "Your current bankroll: 100\n",
      "\n",
      "Thank you for playing Blackjack!\n",
      "Final Bankroll: 120.0\n",
      "Average Bankroll: 103.36735\n",
      "Win Rate: 0.354425\n",
      "Average Winnings: 3.36735\n"
     ]
    }
   ],
   "source": [
    "agent = OnPolicyBlackjackAgent()\n",
    "environment = BlackjackEnvironment()\n",
    "\n",
    "num_episodes = 200000  # number of episodes\n",
    "epsilon = 0.1  # exploration rate\n",
    "alpha = 0.5 # learning rate \n",
    "gamma = 0.99  #discount factor \n",
    "\n",
    "agent.update_policy(environment.get_episode(), alpha, gamma)\n",
    "on_policy_episodes = environment.play(num_episodes, epsilon)\n",
    "average_bankroll, win_rate, average_winnings = environment.calculate_performance_metrics(num_episodes)\n",
    "print(f\"Average Bankroll: {average_bankroll}\")\n",
    "print(f\"Win Rate: {win_rate}\")\n",
    "print(f\"Average Winnings: {average_winnings}\")"
   ]
  },
  {
   "cell_type": "markdown",
   "id": "98d5fd83",
   "metadata": {},
   "source": [
    "## 1.2. Off-Policy"
   ]
  },
  {
   "cell_type": "code",
   "execution_count": 23,
   "id": "61122e71",
   "metadata": {},
   "outputs": [],
   "source": [
    "class OffPolicyBlackjackAgent:\n",
    "    def __init__(self):\n",
    "        self.Q = {}\n",
    "        self.C = {}\n",
    "\n",
    "    def get_action(self, state, epsilon):\n",
    "        action_values = self.Q.get(state, {})\n",
    "        if action_values:\n",
    "            values = np.array(list(action_values.values()))\n",
    "            probabilities = np.exp(values / epsilon) / np.sum(np.exp(values / epsilon))\n",
    "            actions = list(action_values.keys())\n",
    "            # Return actions and their probabilities\n",
    "            return actions, probabilities  \n",
    "        else:\n",
    "             # Initialize Q-values for unseen state\n",
    "            self.Q[state] = {'hit': 0, 'stand': 0, 'double_down': 0, 'split': 0} \n",
    "            # Return equal probabilities for all actions\n",
    "            return ['hit', 'stand', 'double_down', 'split'], [0.25, 0.25, 0.25, 0.25]  \n",
    "\n",
    "    def update_policy(self, episodes, alpha, gamma):\n",
    "        for episode in episodes:\n",
    "            if not episode:\n",
    "                # Skip empty episodes\n",
    "                continue  \n",
    "\n",
    "            states, actions, rewards = zip(*episode)\n",
    "            G = 0\n",
    "            W = 1  # Importance sampling ratio\n",
    "            for t in reversed(range(len(states))):\n",
    "                state = states[t]\n",
    "                action = actions[t]\n",
    "                reward = rewards[t]\n",
    "                G = gamma * G + reward\n",
    "\n",
    "                self.C[state] = self.C.get(state, {})\n",
    "                self.C[state][action] = self.C[state].get(action, 0) + W\n",
    "                rho = self.get_importance_sampling_ratio(states, actions, t)\n",
    "                alpha_t = alpha / self.C[state][action]\n",
    "                self.Q[state] = self.Q.get(state, {})\n",
    "                self.Q[state][action] = self.Q[state].get(action, 0) + alpha_t * (rho * (G - self.Q[state].get(action, 0)))\n",
    "\n",
    "    def get_importance_sampling_ratio(self, states, actions, t):\n",
    "        rho = 1.0\n",
    "        for i in range(t):\n",
    "            state = states[i]\n",
    "            action = actions[i]\n",
    "            _, behavior_probabilities = self.get_action(state, epsilon)\n",
    "            target_prob = np.exp(self.Q[state][action] / epsilon) / np.sum(np.exp(np.array(list(self.Q[state].values())) / epsilon))\n",
    "            behavior_prob = behavior_probabilities[i]\n",
    "            rho *= target_prob / behavior_prob\n",
    "        return rho\n",
    "   \n"
   ]
  },
  {
   "cell_type": "code",
   "execution_count": 24,
   "id": "5496fdf8",
   "metadata": {},
   "outputs": [
    {
     "name": "stdout",
     "output_type": "stream",
     "text": [
      "Welcome to Blackjack!\n",
      "Your current bankroll: 100\n",
      "\n",
      "Thank you for playing Blackjack!\n",
      "Final Bankroll: 290.0\n",
      "Average Bankroll: 109.624\n",
      "Win Rate: 0.364785\n",
      "Average Winnings: 9.624\n"
     ]
    }
   ],
   "source": [
    "agent = OffPolicyBlackjackAgent()\n",
    "environment = BlackjackEnvironment()\n",
    "\n",
    "num_episodes = 200000  # number of episodes\n",
    "epsilon = 0.1  # exploration rate\n",
    "alpha = 0.5  # learning rate \n",
    "gamma = 0.9  #discount factor \n",
    "\n",
    "agent.update_policy(environment.get_episode(), alpha, gamma)\n",
    "off_policy_episodes = environment.play(num_episodes, epsilon)\n",
    "\n",
    "average_bankroll, win_rate, average_winnings = environment.calculate_performance_metrics(num_episodes)\n",
    "print(f\"Average Bankroll: {average_bankroll}\")\n",
    "print(f\"Win Rate: {win_rate}\")\n",
    "print(f\"Average Winnings: {average_winnings}\")"
   ]
  },
  {
   "cell_type": "markdown",
   "id": "655e6bd5",
   "metadata": {},
   "source": [
    "### 1.2.1. Different Learning Rates"
   ]
  },
  {
   "cell_type": "code",
   "execution_count": 25,
   "id": "6b675aa3",
   "metadata": {},
   "outputs": [
    {
     "name": "stdout",
     "output_type": "stream",
     "text": [
      "Welcome to Blackjack!\n",
      "Your current bankroll: 100\n",
      "\n",
      "Thank you for playing Blackjack!\n",
      "Final Bankroll: 240.0\n",
      "Average Bankroll: 101.44825\n",
      "Win Rate: 0.355795\n",
      "Average Winnings: 1.44825\n"
     ]
    }
   ],
   "source": [
    "agent = OffPolicyBlackjackAgent()\n",
    "environment = BlackjackEnvironment()\n",
    "\n",
    "num_episodes = 200000  # number of episodes\n",
    "epsilon = 0.1  # exploration rate\n",
    "alpha = 0.1  # learning rate \n",
    "gamma = 0.9  #discount factor \n",
    "\n",
    "agent.update_policy(environment.get_episode(), alpha, gamma)\n",
    "off_policy_episodes = environment.play(num_episodes, epsilon)\n",
    "\n",
    "average_bankroll, win_rate, average_winnings = environment.calculate_performance_metrics(num_episodes)\n",
    "print(f\"Average Bankroll: {average_bankroll}\")\n",
    "print(f\"Win Rate: {win_rate}\")\n",
    "print(f\"Average Winnings: {average_winnings}\")"
   ]
  },
  {
   "cell_type": "code",
   "execution_count": 26,
   "id": "5e54c72c",
   "metadata": {},
   "outputs": [
    {
     "name": "stdout",
     "output_type": "stream",
     "text": [
      "Welcome to Blackjack!\n",
      "Your current bankroll: 100\n",
      "\n",
      "Thank you for playing Blackjack!\n",
      "Final Bankroll: 40.0\n",
      "Average Bankroll: 105.44035\n",
      "Win Rate: 0.357365\n",
      "Average Winnings: 5.44035\n"
     ]
    }
   ],
   "source": [
    "agent = OffPolicyBlackjackAgent()\n",
    "environment = BlackjackEnvironment()\n",
    "\n",
    "num_episodes = 200000  # number of episodes\n",
    "epsilon = 0.1  # exploration rate\n",
    "alpha = 0.3  # learning rate \n",
    "gamma = 0.9  #discount factor \n",
    "\n",
    "agent.update_policy(environment.get_episode(), alpha, gamma)\n",
    "off_policy_episodes = environment.play(num_episodes, epsilon)\n",
    "\n",
    "average_bankroll, win_rate, average_winnings = environment.calculate_performance_metrics(num_episodes)\n",
    "print(f\"Average Bankroll: {average_bankroll}\")\n",
    "print(f\"Win Rate: {win_rate}\")\n",
    "print(f\"Average Winnings: {average_winnings}\")"
   ]
  },
  {
   "cell_type": "code",
   "execution_count": 27,
   "id": "3992cebf",
   "metadata": {},
   "outputs": [
    {
     "name": "stdout",
     "output_type": "stream",
     "text": [
      "Welcome to Blackjack!\n",
      "Your current bankroll: 100\n",
      "\n",
      "Thank you for playing Blackjack!\n",
      "Final Bankroll: 130.0\n"
     ]
    },
    {
     "name": "stderr",
     "output_type": "stream",
     "text": [
      "C:\\Users\\Mian\\AppData\\Local\\Temp\\ipykernel_23160\\1128298321.py:10: RuntimeWarning: overflow encountered in exp\n",
      "  probabilities = np.exp(values / epsilon) / np.sum(np.exp(values / epsilon))\n",
      "C:\\Users\\Mian\\AppData\\Local\\Temp\\ipykernel_23160\\1128298321.py:10: RuntimeWarning: invalid value encountered in divide\n",
      "  probabilities = np.exp(values / epsilon) / np.sum(np.exp(values / epsilon))\n",
      "C:\\Users\\Mian\\AppData\\Local\\Temp\\ipykernel_23160\\1128298321.py:48: RuntimeWarning: overflow encountered in exp\n",
      "  target_prob = np.exp(self.Q[state][action] / epsilon) / np.sum(np.exp(np.array(list(self.Q[state].values())) / epsilon))\n",
      "C:\\Users\\Mian\\AppData\\Local\\Temp\\ipykernel_23160\\1128298321.py:48: RuntimeWarning: invalid value encountered in scalar divide\n",
      "  target_prob = np.exp(self.Q[state][action] / epsilon) / np.sum(np.exp(np.array(list(self.Q[state].values())) / epsilon))\n"
     ]
    },
    {
     "name": "stdout",
     "output_type": "stream",
     "text": [
      "Average Bankroll: 99.44855\n",
      "Win Rate: 0.34168\n",
      "Average Winnings: -0.55145\n"
     ]
    }
   ],
   "source": [
    "agent = OffPolicyBlackjackAgent()\n",
    "environment = BlackjackEnvironment()\n",
    "\n",
    "num_episodes = 200000  # number of episodes\n",
    "epsilon = 0.1  # exploration rate\n",
    "alpha = 0.5  # learning rate \n",
    "gamma = 0.9  #discount factor \n",
    "\n",
    "agent.update_policy(environment.get_episode(), alpha, gamma)\n",
    "off_policy_episodes = environment.play(num_episodes, epsilon)\n",
    "\n",
    "average_bankroll, win_rate, average_winnings = environment.calculate_performance_metrics(num_episodes)\n",
    "print(f\"Average Bankroll: {average_bankroll}\")\n",
    "print(f\"Win Rate: {win_rate}\")\n",
    "print(f\"Average Winnings: {average_winnings}\")"
   ]
  },
  {
   "cell_type": "code",
   "execution_count": 28,
   "id": "ce6720c3",
   "metadata": {},
   "outputs": [
    {
     "name": "stdout",
     "output_type": "stream",
     "text": [
      "Welcome to Blackjack!\n",
      "Your current bankroll: 100\n",
      "\n",
      "Thank you for playing Blackjack!\n",
      "Final Bankroll: 100.0\n",
      "Average Bankroll: 100.1338\n",
      "Win Rate: 0.35152\n",
      "Average Winnings: 0.1338\n"
     ]
    }
   ],
   "source": [
    "agent = OffPolicyBlackjackAgent()\n",
    "environment = BlackjackEnvironment()\n",
    "\n",
    "num_episodes = 200000  # number of episodes\n",
    "epsilon = 0.1  # exploration rate\n",
    "alpha = 0.7  # learning rate \n",
    "gamma = 0.9  #discount factor \n",
    "\n",
    "agent.update_policy(environment.get_episode(), alpha, gamma)\n",
    "off_policy_episodes = environment.play(num_episodes, epsilon)\n",
    "\n",
    "average_bankroll, win_rate, average_winnings = environment.calculate_performance_metrics(num_episodes)\n",
    "print(f\"Average Bankroll: {average_bankroll}\")\n",
    "print(f\"Win Rate: {win_rate}\")\n",
    "print(f\"Average Winnings: {average_winnings}\")"
   ]
  },
  {
   "cell_type": "code",
   "execution_count": 29,
   "id": "88074bfc",
   "metadata": {},
   "outputs": [
    {
     "name": "stdout",
     "output_type": "stream",
     "text": [
      "Welcome to Blackjack!\n",
      "Your current bankroll: 100\n",
      "\n",
      "Thank you for playing Blackjack!\n",
      "Final Bankroll: 140.0\n",
      "Average Bankroll: 103.1034\n",
      "Win Rate: 0.35894\n",
      "Average Winnings: 3.1034\n"
     ]
    }
   ],
   "source": [
    "agent = OffPolicyBlackjackAgent()\n",
    "environment = BlackjackEnvironment()\n",
    "\n",
    "num_episodes = 200000  # number of episodes\n",
    "epsilon = 0.1  # exploration rate\n",
    "alpha = 0.9  # learning rate \n",
    "gamma = 0.9  #discount factor \n",
    "\n",
    "agent.update_policy(environment.get_episode(), alpha, gamma)\n",
    "off_policy_episodes = environment.play(num_episodes, epsilon)\n",
    "\n",
    "average_bankroll, win_rate, average_winnings = environment.calculate_performance_metrics(num_episodes)\n",
    "print(f\"Average Bankroll: {average_bankroll}\")\n",
    "print(f\"Win Rate: {win_rate}\")\n",
    "print(f\"Average Winnings: {average_winnings}\")"
   ]
  },
  {
   "cell_type": "markdown",
   "id": "02cd5c36",
   "metadata": {},
   "source": [
    "### 1.2.2. Different Epsilon Values"
   ]
  },
  {
   "cell_type": "code",
   "execution_count": 30,
   "id": "d85638e1",
   "metadata": {},
   "outputs": [
    {
     "name": "stdout",
     "output_type": "stream",
     "text": [
      "Welcome to Blackjack!\n",
      "Your current bankroll: 100\n",
      "\n",
      "Thank you for playing Blackjack!\n",
      "Final Bankroll: 80.0\n",
      "Average Bankroll: 104.05445\n",
      "Win Rate: 0.36229\n",
      "Average Winnings: 4.05445\n"
     ]
    }
   ],
   "source": [
    "agent = OffPolicyBlackjackAgent()\n",
    "environment = BlackjackEnvironment()\n",
    "\n",
    "num_episodes = 200000  # number of episodes\n",
    "epsilon = 0.1  # exploration rate\n",
    "alpha = 0.5  # learning rate \n",
    "gamma = 0.9  #discount factor \n",
    "\n",
    "agent.update_policy(environment.get_episode(), alpha, gamma)\n",
    "off_policy_episodes = environment.play(num_episodes, epsilon)\n",
    "\n",
    "average_bankroll, win_rate, average_winnings = environment.calculate_performance_metrics(num_episodes)\n",
    "print(f\"Average Bankroll: {average_bankroll}\")\n",
    "print(f\"Win Rate: {win_rate}\")\n",
    "print(f\"Average Winnings: {average_winnings}\")"
   ]
  },
  {
   "cell_type": "code",
   "execution_count": 31,
   "id": "a10b59dd",
   "metadata": {},
   "outputs": [
    {
     "name": "stdout",
     "output_type": "stream",
     "text": [
      "Welcome to Blackjack!\n",
      "Your current bankroll: 100\n",
      "\n",
      "Thank you for playing Blackjack!\n",
      "Final Bankroll: 0.0\n",
      "Average Bankroll: 105.7208\n",
      "Win Rate: 0.361155\n",
      "Average Winnings: 5.7208\n"
     ]
    }
   ],
   "source": [
    "agent = OffPolicyBlackjackAgent()\n",
    "environment = BlackjackEnvironment()\n",
    "\n",
    "num_episodes = 200000  # number of episodes\n",
    "epsilon = 0.3  # exploration rate\n",
    "alpha = 0.5  # learning rate \n",
    "gamma = 0.9  #discount factor \n",
    "\n",
    "agent.update_policy(environment.get_episode(), alpha, gamma)\n",
    "off_policy_episodes = environment.play(num_episodes, epsilon)\n",
    "\n",
    "average_bankroll, win_rate, average_winnings = environment.calculate_performance_metrics(num_episodes)\n",
    "print(f\"Average Bankroll: {average_bankroll}\")\n",
    "print(f\"Win Rate: {win_rate}\")\n",
    "print(f\"Average Winnings: {average_winnings}\")"
   ]
  },
  {
   "cell_type": "code",
   "execution_count": 32,
   "id": "25078bbb",
   "metadata": {},
   "outputs": [
    {
     "name": "stdout",
     "output_type": "stream",
     "text": [
      "Welcome to Blackjack!\n",
      "Your current bankroll: 100\n",
      "\n",
      "Thank you for playing Blackjack!\n",
      "Final Bankroll: 340.0\n",
      "Average Bankroll: 104.0627\n",
      "Win Rate: 0.36237\n",
      "Average Winnings: 4.0627\n"
     ]
    }
   ],
   "source": [
    "agent = OffPolicyBlackjackAgent()\n",
    "environment = BlackjackEnvironment()\n",
    "\n",
    "num_episodes = 200000  # number of episodes\n",
    "epsilon = 0.5  # exploration rate\n",
    "alpha = 0.5  # learning rate \n",
    "gamma = 0.9  #discount factor \n",
    "\n",
    "agent.update_policy(environment.get_episode(), alpha, gamma)\n",
    "off_policy_episodes = environment.play(num_episodes, epsilon)\n",
    "\n",
    "average_bankroll, win_rate, average_winnings = environment.calculate_performance_metrics(num_episodes)\n",
    "print(f\"Average Bankroll: {average_bankroll}\")\n",
    "print(f\"Win Rate: {win_rate}\")\n",
    "print(f\"Average Winnings: {average_winnings}\")"
   ]
  },
  {
   "cell_type": "code",
   "execution_count": 33,
   "id": "8feb1f18",
   "metadata": {},
   "outputs": [
    {
     "name": "stdout",
     "output_type": "stream",
     "text": [
      "Welcome to Blackjack!\n",
      "Your current bankroll: 100\n",
      "\n",
      "Thank you for playing Blackjack!\n",
      "Final Bankroll: 20.0\n",
      "Average Bankroll: 105.10175\n",
      "Win Rate: 0.363495\n",
      "Average Winnings: 5.10175\n"
     ]
    }
   ],
   "source": [
    "agent = OffPolicyBlackjackAgent()\n",
    "environment = BlackjackEnvironment()\n",
    "\n",
    "num_episodes = 200000  # number of episodes\n",
    "epsilon = 0.7  # exploration rate\n",
    "alpha = 0.5  # learning rate \n",
    "gamma = 0.9  #discount factor \n",
    "\n",
    "agent.update_policy(environment.get_episode(), alpha, gamma)\n",
    "off_policy_episodes = environment.play(num_episodes, epsilon)\n",
    "\n",
    "average_bankroll, win_rate, average_winnings = environment.calculate_performance_metrics(num_episodes)\n",
    "print(f\"Average Bankroll: {average_bankroll}\")\n",
    "print(f\"Win Rate: {win_rate}\")\n",
    "print(f\"Average Winnings: {average_winnings}\")"
   ]
  },
  {
   "cell_type": "code",
   "execution_count": 34,
   "id": "187cf2fa",
   "metadata": {},
   "outputs": [
    {
     "name": "stdout",
     "output_type": "stream",
     "text": [
      "Welcome to Blackjack!\n",
      "Your current bankroll: 100\n",
      "\n",
      "Thank you for playing Blackjack!\n",
      "Final Bankroll: 160.0\n",
      "Average Bankroll: 99.63965\n",
      "Win Rate: 0.34548\n",
      "Average Winnings: -0.36035\n"
     ]
    }
   ],
   "source": [
    "agent = OffPolicyBlackjackAgent()\n",
    "environment = BlackjackEnvironment()\n",
    "\n",
    "num_episodes = 200000  # number of episodes\n",
    "epsilon = 0.9  # exploration rate\n",
    "alpha = 0.5  # learning rate \n",
    "gamma = 0.9  #discount factor \n",
    "\n",
    "agent.update_policy(environment.get_episode(), alpha, gamma)\n",
    "off_policy_episodes = environment.play(num_episodes, epsilon)\n",
    "\n",
    "average_bankroll, win_rate, average_winnings = environment.calculate_performance_metrics(num_episodes)\n",
    "print(f\"Average Bankroll: {average_bankroll}\")\n",
    "print(f\"Win Rate: {win_rate}\")\n",
    "print(f\"Average Winnings: {average_winnings}\")"
   ]
  },
  {
   "cell_type": "markdown",
   "id": "b087f868",
   "metadata": {},
   "source": [
    "### 1.2.3. Different Discount Factor "
   ]
  },
  {
   "cell_type": "code",
   "execution_count": 35,
   "id": "b0d1f100",
   "metadata": {},
   "outputs": [
    {
     "name": "stdout",
     "output_type": "stream",
     "text": [
      "Welcome to Blackjack!\n",
      "Your current bankroll: 100\n",
      "\n",
      "Thank you for playing Blackjack!\n",
      "Final Bankroll: 0.0\n",
      "Average Bankroll: 102.2214\n",
      "Win Rate: 0.3522\n",
      "Average Winnings: 2.2214\n"
     ]
    }
   ],
   "source": [
    "agent = OffPolicyBlackjackAgent()\n",
    "environment = BlackjackEnvironment()\n",
    "\n",
    "num_episodes = 200000  # number of episodes\n",
    "epsilon = 0.1  # exploration rate\n",
    "alpha = 0.5  # learning rate \n",
    "gamma = 0.7  #discount factor \n",
    "\n",
    "agent.update_policy(environment.get_episode(), alpha, gamma)\n",
    "off_policy_episodes = environment.play(num_episodes, epsilon)\n",
    "\n",
    "average_bankroll, win_rate, average_winnings = environment.calculate_performance_metrics(num_episodes)\n",
    "print(f\"Average Bankroll: {average_bankroll}\")\n",
    "print(f\"Win Rate: {win_rate}\")\n",
    "print(f\"Average Winnings: {average_winnings}\")"
   ]
  },
  {
   "cell_type": "code",
   "execution_count": 36,
   "id": "cefc05ca",
   "metadata": {},
   "outputs": [
    {
     "name": "stdout",
     "output_type": "stream",
     "text": [
      "Welcome to Blackjack!\n",
      "Your current bankroll: 100\n",
      "\n",
      "Thank you for playing Blackjack!\n",
      "Final Bankroll: 0.0\n",
      "Average Bankroll: 102.66965\n",
      "Win Rate: 0.35958\n",
      "Average Winnings: 2.66965\n"
     ]
    }
   ],
   "source": [
    "agent = OffPolicyBlackjackAgent()\n",
    "environment = BlackjackEnvironment()\n",
    "\n",
    "num_episodes = 200000  # number of episodes\n",
    "epsilon = 0.1  # exploration rate\n",
    "alpha = 0.5  # learning rate \n",
    "gamma = 0.8  #discount factor \n",
    "\n",
    "agent.update_policy(environment.get_episode(), alpha, gamma)\n",
    "off_policy_episodes = environment.play(num_episodes, epsilon)\n",
    "\n",
    "average_bankroll, win_rate, average_winnings = environment.calculate_performance_metrics(num_episodes)\n",
    "print(f\"Average Bankroll: {average_bankroll}\")\n",
    "print(f\"Win Rate: {win_rate}\")\n",
    "print(f\"Average Winnings: {average_winnings}\")"
   ]
  },
  {
   "cell_type": "code",
   "execution_count": 37,
   "id": "b8f6e557",
   "metadata": {},
   "outputs": [
    {
     "name": "stdout",
     "output_type": "stream",
     "text": [
      "Welcome to Blackjack!\n",
      "Your current bankroll: 100\n",
      "\n",
      "Thank you for playing Blackjack!\n",
      "Final Bankroll: 20.0\n",
      "Average Bankroll: 103.95365\n",
      "Win Rate: 0.3546\n",
      "Average Winnings: 3.95365\n"
     ]
    }
   ],
   "source": [
    "agent = OffPolicyBlackjackAgent()\n",
    "environment = BlackjackEnvironment()\n",
    "\n",
    "num_episodes = 200000  # number of episodes\n",
    "epsilon = 0.1  # exploration rate\n",
    "alpha = 0.5  # learning rate \n",
    "gamma = 0.9  #discount factor \n",
    "\n",
    "agent.update_policy(environment.get_episode(), alpha, gamma)\n",
    "off_policy_episodes = environment.play(num_episodes, epsilon)\n",
    "\n",
    "average_bankroll, win_rate, average_winnings = environment.calculate_performance_metrics(num_episodes)\n",
    "print(f\"Average Bankroll: {average_bankroll}\")\n",
    "print(f\"Win Rate: {win_rate}\")\n",
    "print(f\"Average Winnings: {average_winnings}\")"
   ]
  },
  {
   "cell_type": "code",
   "execution_count": 38,
   "id": "ae4d120b",
   "metadata": {},
   "outputs": [
    {
     "name": "stdout",
     "output_type": "stream",
     "text": [
      "Welcome to Blackjack!\n",
      "Your current bankroll: 100\n",
      "\n",
      "Thank you for playing Blackjack!\n",
      "Final Bankroll: 210.0\n",
      "Average Bankroll: 104.9645\n",
      "Win Rate: 0.358\n",
      "Average Winnings: 4.9645\n"
     ]
    }
   ],
   "source": [
    "agent = OffPolicyBlackjackAgent()\n",
    "environment = BlackjackEnvironment()\n",
    "\n",
    "num_episodes = 200000  # number of episodes\n",
    "epsilon = 0.1  # exploration rate\n",
    "alpha = 0.5  # learning rate \n",
    "gamma = 0.95  #discount factor \n",
    "\n",
    "agent.update_policy(environment.get_episode(), alpha, gamma)\n",
    "off_policy_episodes = environment.play(num_episodes, epsilon)\n",
    "\n",
    "average_bankroll, win_rate, average_winnings = environment.calculate_performance_metrics(num_episodes)\n",
    "print(f\"Average Bankroll: {average_bankroll}\")\n",
    "print(f\"Win Rate: {win_rate}\")\n",
    "print(f\"Average Winnings: {average_winnings}\")"
   ]
  },
  {
   "cell_type": "code",
   "execution_count": 39,
   "id": "7a90528d",
   "metadata": {},
   "outputs": [
    {
     "name": "stdout",
     "output_type": "stream",
     "text": [
      "Welcome to Blackjack!\n",
      "Your current bankroll: 100\n",
      "\n",
      "Thank you for playing Blackjack!\n",
      "Final Bankroll: 20.0\n"
     ]
    },
    {
     "name": "stderr",
     "output_type": "stream",
     "text": [
      "C:\\Users\\Mian\\AppData\\Local\\Temp\\ipykernel_23160\\1128298321.py:10: RuntimeWarning: overflow encountered in exp\n",
      "  probabilities = np.exp(values / epsilon) / np.sum(np.exp(values / epsilon))\n",
      "C:\\Users\\Mian\\AppData\\Local\\Temp\\ipykernel_23160\\1128298321.py:10: RuntimeWarning: invalid value encountered in divide\n",
      "  probabilities = np.exp(values / epsilon) / np.sum(np.exp(values / epsilon))\n",
      "C:\\Users\\Mian\\AppData\\Local\\Temp\\ipykernel_23160\\1128298321.py:48: RuntimeWarning: overflow encountered in exp\n",
      "  target_prob = np.exp(self.Q[state][action] / epsilon) / np.sum(np.exp(np.array(list(self.Q[state].values())) / epsilon))\n",
      "C:\\Users\\Mian\\AppData\\Local\\Temp\\ipykernel_23160\\1128298321.py:48: RuntimeWarning: invalid value encountered in scalar divide\n",
      "  target_prob = np.exp(self.Q[state][action] / epsilon) / np.sum(np.exp(np.array(list(self.Q[state].values())) / epsilon))\n"
     ]
    },
    {
     "name": "stdout",
     "output_type": "stream",
     "text": [
      "Average Bankroll: 113.46235\n",
      "Win Rate: 0.38406\n",
      "Average Winnings: 13.46235\n"
     ]
    }
   ],
   "source": [
    "agent = OffPolicyBlackjackAgent()\n",
    "environment = BlackjackEnvironment()\n",
    "\n",
    "num_episodes = 200000  # number of episodes\n",
    "epsilon = 0.1  # exploration rate\n",
    "alpha = 0.5  # learning rate \n",
    "gamma = 0.99  #discount factor \n",
    "\n",
    "agent.update_policy(environment.get_episode(), alpha, gamma)\n",
    "off_policy_episodes = environment.play(num_episodes, epsilon)\n",
    "\n",
    "average_bankroll, win_rate, average_winnings = environment.calculate_performance_metrics(num_episodes)\n",
    "print(f\"Average Bankroll: {average_bankroll}\")\n",
    "print(f\"Win Rate: {win_rate}\")\n",
    "print(f\"Average Winnings: {average_winnings}\")"
   ]
  },
  {
   "cell_type": "markdown",
   "id": "513e04d5",
   "metadata": {},
   "source": [
    "# Plot Basic Strategy "
   ]
  },
  {
   "cell_type": "code",
   "execution_count": 40,
   "id": "f32b7b30",
   "metadata": {},
   "outputs": [
    {
     "data": {
      "image/png": "[encoded data removed]",
      "text/plain": [
       "<Figure size 640x480 with 1 Axes>"
      ]
     },
     "metadata": {},
     "output_type": "display_data"
    }
   ],
   "source": [
    "plot_cumulative_rewards(on_policy_episodes, off_policy_episodes)"
   ]
  },
  {
   "cell_type": "markdown",
   "id": "94eb70f1",
   "metadata": {},
   "source": [
    "# 2. Complete Counting System "
   ]
  },
  {
   "cell_type": "code",
   "execution_count": 41,
   "id": "9df11d53",
   "metadata": {},
   "outputs": [],
   "source": [
    "class BlackjackEnvironment:\n",
    "    def __init__(self):\n",
    "        self.deck = self.generate_deck()\n",
    "        self.player_hand = []\n",
    "        self.dealer_hand = []\n",
    "        self.bankroll = 100\n",
    "        self.bet = 20\n",
    "        self.is_playing = False\n",
    "        self.episode = []\n",
    "        self.running_count = 0\n",
    "        self.true_count = 0\n",
    "\n",
    "    def generate_deck(self):\n",
    "        suits = ['hearts', 'diamonds', 'clubs', 'spades']\n",
    "        values = list(range(2, 11)) + ['jack', 'queen', 'king', 'ace']\n",
    "        deck = []\n",
    "        for value in values:\n",
    "            for suit in suits:\n",
    "                card = str(value) + '_' + suit\n",
    "                deck.append(card)\n",
    "        return deck\n",
    "\n",
    "    def draw_card(self):\n",
    "        if len(self.deck) == 0:\n",
    "            self.check_deck()\n",
    "        card = self.deck.pop(random.randint(0, len(self.deck) - 1))\n",
    "        return card\n",
    "\n",
    "    def check_deck(self):\n",
    "        if len(self.deck) == 0:\n",
    "            print(\"The deck is running out of cards. Creating a new deck...\")\n",
    "            self.deck = self.generate_deck()\n",
    "            random.shuffle(self.deck)\n",
    "\n",
    "    def reset(self):\n",
    "        self.deck = self.generate_deck()\n",
    "        random.shuffle(self.deck)\n",
    "        self.player_hand = [self.draw_card(), self.draw_card()]\n",
    "        self.dealer_hand = [self.draw_card(), self.draw_card()]\n",
    "        self.bet = 20\n",
    "        self.episode = []\n",
    "\n",
    "    def card_value(self, card):\n",
    "        value = card.split('_')[0]\n",
    "        if value in ['jack', 'queen', 'king']:\n",
    "            return 10\n",
    "        elif value == 'ace':\n",
    "            return 11\n",
    "        else:\n",
    "            return int(value)\n",
    "\n",
    "    def hand_value(self, hand):\n",
    "        value = sum(self.card_value(card) for card in hand)\n",
    "        num_aces = sum(1 for card in hand if card.startswith('ace'))\n",
    "\n",
    "        while value > 21 and num_aces > 0:\n",
    "            value -= 10\n",
    "            num_aces -= 1\n",
    "\n",
    "        if num_aces > 0 and value > 21:\n",
    "            value -= 10\n",
    "\n",
    "        return value\n",
    "\n",
    "    def is_busted(self, hand):\n",
    "        return self.hand_value(hand) > 21\n",
    "\n",
    "    def dealer_play(self):\n",
    "        while self.hand_value(self.dealer_hand) < 17:\n",
    "            self.dealer_hand.append(self.draw_card())\n",
    "    def offer_insurance(self):\n",
    "        player_value = self.hand_value(self.player_hand)\n",
    "        dealer_upcard = self.card_value(self.dealer_hand[0])\n",
    "\n",
    "        if player_value == 21 and dealer_upcard == 11:\n",
    "            # Player has a natural blackjack and dealer upcard is an Ace\n",
    "            # Pay 3:2 for blackjack\n",
    "            self.bankroll += self.bet * 1.5  \n",
    "            # No need for insurance in this case\n",
    "            self.insurance_bet = 0  \n",
    "        elif dealer_upcard == 11:\n",
    "            # Dealer upcard is an Ace\n",
    "            # Take insurance if the deck is rich in 10-value cards\n",
    "            num_tens = sum(1 for card in self.deck if self.card_value(card) == 10)\n",
    "            num_remaining_cards = len(self.deck)\n",
    "            insurance_threshold = num_tens / num_remaining_cards\n",
    "            if insurance_threshold > 0.3:  \n",
    "                # Insurance bet is half of the original bet\n",
    "                insurance_amount = min(self.bankroll, self.bet / 2)  \n",
    "                self.bankroll -= insurance_amount\n",
    "                self.insurance_bet = insurance_amount\n",
    "                if self.hand_value(self.dealer_hand) == 21:\n",
    "                    # Payout for the insurance bet\n",
    "                    self.bankroll += self.insurance_bet * 2  \n",
    "                else:\n",
    "                    pass\n",
    "            else:\n",
    "                self.insurance_bet = 0  \n",
    "\n",
    "    def double_down(self):\n",
    "        if self.bet <= self.bankroll:\n",
    "            self.bet *= 2\n",
    "            self.player_hand.append(self.draw_card())\n",
    "\n",
    "            if self.is_busted(self.player_hand):\n",
    "                self.bankroll -= self.bet\n",
    "                self.episode.append((self.get_state(), 'double_down', -1))\n",
    "            else:\n",
    "                self.dealer_play()\n",
    "                player_value = self.hand_value(self.player_hand)\n",
    "                dealer_value = self.hand_value(self.dealer_hand)\n",
    "\n",
    "                if self.is_busted(self.dealer_hand) or player_value > dealer_value:\n",
    "                    self.bankroll += self.bet\n",
    "                    self.episode.append((self.get_state(), 'double_down', 1))\n",
    "                elif dealer_value > player_value:\n",
    "                    self.bankroll -= self.bet\n",
    "                    self.episode.append((self.get_state(), 'double_down', -1))\n",
    "                else:\n",
    "                    self.episode.append((self.get_state(), 'double_down', 0))\n",
    "        else:\n",
    "            pass\n",
    "\n",
    "    def place_bet(self):\n",
    "        self.bet = 20\n",
    "\n",
    "    def split_pair(self):\n",
    "        if len(self.player_hand) == 2 and self.card_value(self.player_hand[0]) == self.card_value(self.player_hand[1]):\n",
    "            card_value = self.card_value(self.player_hand[0])\n",
    "            print(f\"Splitting {card_value}'s...\")\n",
    "            # Create two separate hands from the pair of cards\n",
    "            hand1 = [self.player_hand[0], self.draw_card()]\n",
    "            hand2 = [self.player_hand[1], self.draw_card()]\n",
    "            # Update player_hand to a list of split hands\n",
    "            self.player_hand = [hand1, hand2]  \n",
    "        else:\n",
    "            print(\"Split not possible. You must have a pair of cards with the same value.\")\n",
    "\n",
    "    def hit(self):\n",
    "        self.player_hand.append(self.draw_card())\n",
    "\n",
    "    def stand(self):\n",
    "        self.dealer_play()\n",
    "        player_value = self.hand_value(self.player_hand)\n",
    "        dealer_value = self.hand_value(self.dealer_hand)\n",
    "\n",
    "        if self.is_busted(self.dealer_hand):\n",
    "            self.bankroll += self.bet\n",
    "            self.episode.append((self.get_state(), 'stand', 1))\n",
    "        elif player_value > dealer_value:\n",
    "            self.bankroll += self.bet\n",
    "            self.episode.append((self.get_state(), 'stand', 1))\n",
    "        elif dealer_value > player_value:\n",
    "            self.bankroll -= self.bet\n",
    "            self.episode.append((self.get_state(), 'stand', -1))\n",
    "        else:\n",
    "            self.episode.append((self.get_state(), 'stand', 0))\n",
    "\n",
    "    def get_state(self):\n",
    "        return tuple(self.player_hand), self.dealer_hand[0]\n",
    "    \n",
    "    def update_running_count(self, card):\n",
    "        value = self.card_value(card)\n",
    "        if value in [2, 3, 4, 5, 6]:\n",
    "            self.running_count += 1\n",
    "        elif value in [10, 'jack', 'queen', 'king', 'ace']:\n",
    "            self.running_count -= 1\n",
    "\n",
    "    def calculate_true_count(self):\n",
    "        num_remaining_cards = len(self.deck)\n",
    "        num_decks_remaining = num_remaining_cards / 52\n",
    "        self.true_count = self.running_count / num_decks_remaining\n",
    "\n",
    "    def adjust_strategy_based_on_true_count(self):\n",
    "        self.calculate_true_count()\n",
    "\n",
    "        if self.true_count >= 1:\n",
    "            # Increase the bet as the true count increases\n",
    "            self.bet *= int(self.true_count)\n",
    "            # Adjust playing strategy based on the true count\n",
    "            player_value = self.hand_value(self.player_hand)\n",
    "            dealer_upcard = self.card_value(self.dealer_hand[0])\n",
    "\n",
    "            if self.true_count >= 1 and player_value == 16 and dealer_upcard in [9, 10, 11]:\n",
    "                # True count is 1 or higher, player has a hand value of 16, and dealer's upcard is 9, 10, or Ace\n",
    "                self.bankroll -= self.bet / 2\n",
    "                return \"surrender\"\n",
    "            elif self.true_count >= 2 and player_value == 10 and dealer_upcard != 10:\n",
    "                # True count is 2 or higher, player has a hand value of 10, and dealer's upcard is not 10\n",
    "                self.double_down()\n",
    "                return \"double_down\"\n",
    "            elif self.true_count >= 3 and player_value == 12 and dealer_upcard in [2, 3, 4, 5, 6]:\n",
    "                # True count is 3 or higher, player has a hand value of 12, and dealer's upcard is 2, 3, 4, 5, or 6\n",
    "                self.stand()\n",
    "                return \"stand\"\n",
    "            elif self.true_count >= 4 and player_value >= 13 and dealer_upcard in [2, 3, 4, 5, 6]:\n",
    "                # True count is 4 or higher, player has a hand value of 13 or higher, and dealer's upcard is 2, 3, 4, 5, or 6\n",
    "                self.stand()\n",
    "                return \"stand\"\n",
    "            elif self.true_count >= 1 and player_value >= 13 and dealer_upcard in [7, 8, 9, 10, 11]:\n",
    "                # True count is 1 or higher, player has a hand value of 13 or higher, and dealer's upcard is 7, 8, 9, 10, or Ace\n",
    "                self.hit()\n",
    "                return \"hit\"\n",
    "            elif self.true_count >= 3 and player_value >= 15 and dealer_upcard == 10:\n",
    "                # True count is 3 or higher, player has a hand value of 15 or higher, and dealer's upcard is 10\n",
    "                self.hit()\n",
    "                return \"hit\"\n",
    "            elif self.true_count >= 2 and player_value >= 17:\n",
    "                # True count is 2 or higher and player has a hand value of 17 or higher\n",
    "                self.stand()\n",
    "                return \"stand\"\n",
    "            else:\n",
    "                pass\n",
    "        else:\n",
    "            pass\n",
    "\n",
    "    def play_hand(self, hand):   \n",
    "        # Offer insurance before playing the hand\n",
    "        self.offer_insurance()  \n",
    "        while True:\n",
    "            if isinstance(hand[0], list):\n",
    "                for subhand in hand:\n",
    "                    self.play_hand(subhand)\n",
    "                break\n",
    "\n",
    "            player_value = self.hand_value(hand)\n",
    "            dealer_upcard = self.card_value(self.dealer_hand[0])\n",
    "            action = self.adjust_strategy_based_on_true_count()\n",
    "\n",
    "            if action == \"surrender\":\n",
    "                self.bankroll -= self.bet / 2\n",
    "                self.episode.append((self.get_state(), 'surrender', -1))\n",
    "                break\n",
    "            elif action == \"double_down\":\n",
    "                self.double_down()\n",
    "                self.episode.append((self.get_state(), 'double_down', 1))\n",
    "                break\n",
    "            elif action == \"split\":\n",
    "                self.split_pair()\n",
    "                self.episode.append((self.get_state(), 'split', 0))\n",
    "                continue\n",
    "            elif action == \"hit\":\n",
    "                self.hit()\n",
    "                if self.is_busted(hand):\n",
    "                    self.bankroll -= min(self.bankroll, self.bet)\n",
    "                    self.episode.append((self.get_state(), 'hit', -1))\n",
    "                    break\n",
    "            elif action == \"stand\":\n",
    "                self.stand()\n",
    "                self.episode.append((self.get_state(), 'stand', 0))\n",
    "                break\n",
    "            else:\n",
    "                if player_value <= 8:\n",
    "                    hand.append(self.draw_card())\n",
    "                    if self.is_busted(hand):\n",
    "                        self.bankroll -= min(self.bankroll, self.bet)\n",
    "                        self.episode.append((self.get_state(), 'hit', -1))\n",
    "                        break\n",
    "                elif player_value >= 17:\n",
    "                    self.dealer_play()\n",
    "                    if self.is_busted(self.dealer_hand):\n",
    "                        self.bankroll += self.bet\n",
    "                        self.episode.append((self.get_state(), 'stand', 1))\n",
    "                    else:\n",
    "                        player_value = self.hand_value(hand)\n",
    "                        dealer_value = self.hand_value(self.dealer_hand)\n",
    "                        if player_value > dealer_value:\n",
    "                            self.bankroll += self.bet\n",
    "                            self.episode.append((self.get_state(), 'stand', 1))\n",
    "                        elif dealer_value > player_value:\n",
    "                            self.bankroll -= min(self.bankroll, self.bet)\n",
    "                            self.episode.append((self.get_state(), 'stand', -1))\n",
    "                        else:\n",
    "                            self.episode.append((self.get_state(), 'stand', 0))\n",
    "                    break\n",
    "                elif 2 <= dealer_upcard <= 6:\n",
    "                    self.dealer_play()\n",
    "                    if self.is_busted(self.dealer_hand):\n",
    "                        self.bankroll += self.bet\n",
    "                        self.episode.append((self.get_state(), 'stand', 1))\n",
    "                    else:\n",
    "                        player_value = self.hand_value(hand)\n",
    "                        dealer_value = self.hand_value(self.dealer_hand)\n",
    "                        if player_value > dealer_value:\n",
    "                            self.bankroll += self.bet\n",
    "                            self.episode.append((self.get_state(), 'stand', 1))\n",
    "                        elif dealer_value > player_value:\n",
    "                            self.bankroll -= min(self.bankroll, self.bet)\n",
    "                            self.episode.append((self.get_state(), 'stand', -1))\n",
    "                        else:\n",
    "                            self.episode.append((self.get_state(), 'stand', 0))\n",
    "                    break\n",
    "                elif player_value == 9 or player_value == 10 or player_value == 11:\n",
    "                    self.double_down()\n",
    "                    self.episode.append((self.get_state(), 'double_down', 1))\n",
    "                    break\n",
    "                elif player_value == self.card_value(hand[0]):\n",
    "                    self.split_pair()\n",
    "                    self.episode.append((self.get_state(), 'split', 0))\n",
    "                    for subhand in self.player_hand:\n",
    "                        self.episode.append((self.get_state(), 'split', 0))\n",
    "                        self.play_hand(subhand)\n",
    "                    break\n",
    "                else:\n",
    "                    hand.append(self.draw_card())\n",
    "                    if self.is_busted(hand):\n",
    "                        self.bankroll -= min(self.bankroll, self.bet)\n",
    "                        self.episode.append((self.get_state(), 'hit', -1))\n",
    "                        break\n",
    "\n",
    "    def get_episode(self):\n",
    "        # Wrap the episode list in another list\n",
    "        return [self.episode]  \n",
    "\n",
    "    def play(self, num_episodes, epsilon):\n",
    "        print(\"Welcome to Blackjack!\")\n",
    "        print(f\"Your current bankroll: {self.bankroll}\")\n",
    "        self.is_playing = True\n",
    "        # Variable to track the current episode number\n",
    "        current_episode = 0  \n",
    "        # Collect all episodes\n",
    "        all_episodes = [] \n",
    "\n",
    "        for _ in range(num_episodes):\n",
    "            self.reset()\n",
    "            self.place_bet()\n",
    "            self.play_hand(self.player_hand)\n",
    "            # Get the episode for the current game\n",
    "            episode = self.get_episode()\n",
    "            # Add the episode to the list of all episodes\n",
    "            all_episodes.extend(episode)  \n",
    "\n",
    "            if _ < num_episodes - 1:\n",
    "                # Reset the episode list for the next episode\n",
    "                self.episode = []  \n",
    "\n",
    "        print(\"\\nThank you for playing Blackjack!\")\n",
    "        print(f\"Final Bankroll: {self.bankroll}\")\n",
    "\n",
    "        current_episode = _ + 1\n",
    "        agent.update_policy(all_episodes, alpha, gamma)\n",
    "        # Update the policy using all episodes\n",
    "        return all_episodes\n",
    "\n",
    "    \n",
    "    def calculate_performance_metrics(self, num_episodes):\n",
    "        total_bankroll = 0\n",
    "        total_winnings = 0\n",
    "        total_wins = 0\n",
    "\n",
    "        for _ in range(num_episodes):\n",
    "            self.reset()\n",
    "            self.place_bet()\n",
    "            self.play_hand(self.player_hand)\n",
    "\n",
    "            total_bankroll += self.bankroll\n",
    "            # Calculate the winnings relative to the initial bankroll\n",
    "            total_winnings += self.bankroll - 100  \n",
    "\n",
    "            if self.bankroll > 100:\n",
    "                total_wins += 1\n",
    "\n",
    "        average_bankroll = total_bankroll / num_episodes\n",
    "        win_rate = total_wins / num_episodes\n",
    "        average_winnings = total_winnings / num_episodes\n",
    "\n",
    "        return average_bankroll, win_rate, average_winnings\n",
    "\n",
    "\n"
   ]
  },
  {
   "cell_type": "markdown",
   "id": "eb0b73ca",
   "metadata": {},
   "source": [
    "## 2.2. On-Policy"
   ]
  },
  {
   "cell_type": "code",
   "execution_count": 42,
   "id": "d9743297",
   "metadata": {},
   "outputs": [],
   "source": [
    "class OnPolicyBlackjackAgent:\n",
    "    def __init__(self):\n",
    "        self.Q = {}\n",
    "        self.N = {}\n",
    "\n",
    "    def get_action(self, state, epsilon):\n",
    "        action_values = self.Q.get(state, {})\n",
    "        if action_values:\n",
    "            values = np.array(list(action_values.values()))\n",
    "            probabilities = np.exp(values / epsilon) / np.sum(np.exp(values / epsilon))\n",
    "            actions = list(action_values.keys())\n",
    "            return np.random.choice(actions, p=probabilities)\n",
    "        else:\n",
    "            return random.choice(['hit', 'stand', 'double_down', 'split'])\n",
    "\n",
    "    def update_policy(self, episodes, alpha, gamma):\n",
    "        for episode in episodes:\n",
    "            if not episode:\n",
    "                continue  \n",
    "\n",
    "            states, actions, rewards = zip(*episode)\n",
    "            G = 0\n",
    "            for t in reversed(range(len(states))):\n",
    "                state = states[t]\n",
    "                action = actions[t]\n",
    "                reward = rewards[t]\n",
    "                G = gamma * G + reward\n",
    "                self.N[state] = self.N.get(state, {})\n",
    "                self.N[state][action] = self.N[state].get(action, 0) + 1\n",
    "                alpha_t = alpha / self.N[state][action]\n",
    "                self.Q[state] = self.Q.get(state, {})\n",
    "                self.Q[state][action] = self.Q[state].get(action, 0) + alpha_t * (G - self.Q[state].get(action, 0))"
   ]
  },
  {
   "cell_type": "code",
   "execution_count": 43,
   "id": "ca2f911d",
   "metadata": {},
   "outputs": [
    {
     "name": "stdout",
     "output_type": "stream",
     "text": [
      "Welcome to Blackjack!\n",
      "Your current bankroll: 100\n",
      "\n",
      "Thank you for playing Blackjack!\n",
      "Final Bankroll: 0.0\n",
      "Average Bankroll: 96.1053\n",
      "Win Rate: 0.34069\n",
      "Average Winnings: -3.8947\n"
     ]
    }
   ],
   "source": [
    "agent = OnPolicyBlackjackAgent()\n",
    "environment = BlackjackEnvironment()\n",
    "\n",
    "num_episodes = 100000  # number of episodes\n",
    "epsilon = 0.1  # exploration rate\n",
    "alpha = 0.5  # learning rate \n",
    "gamma = 0.9  #discount factor \n",
    "\n",
    "agent.update_policy(environment.get_episode(), alpha, gamma)\n",
    "on_plolicy_episodes = environment.play(num_episodes, epsilon)\n",
    "average_bankroll, win_rate, average_winnings = environment.calculate_performance_metrics(num_episodes)\n",
    "print(f\"Average Bankroll: {average_bankroll}\")\n",
    "print(f\"Win Rate: {win_rate}\")\n",
    "print(f\"Average Winnings: {average_winnings}\")"
   ]
  },
  {
   "cell_type": "markdown",
   "id": "909595bb",
   "metadata": {},
   "source": [
    "### 2.2.1 Different Learning Rates"
   ]
  },
  {
   "cell_type": "code",
   "execution_count": 44,
   "id": "ef4c2353",
   "metadata": {},
   "outputs": [
    {
     "name": "stdout",
     "output_type": "stream",
     "text": [
      "Welcome to Blackjack!\n",
      "Your current bankroll: 100\n",
      "\n",
      "Thank you for playing Blackjack!\n",
      "Final Bankroll: 20.0\n",
      "Average Bankroll: 112.6134\n",
      "Win Rate: 0.36728\n",
      "Average Winnings: 12.6134\n"
     ]
    }
   ],
   "source": [
    "agent = OnPolicyBlackjackAgent()\n",
    "environment = BlackjackEnvironment()\n",
    "\n",
    "num_episodes = 100000  # number of episodes\n",
    "epsilon = 0.1  # exploration rate\n",
    "alpha = 0.1  # learning rate \n",
    "gamma = 0.9  #discount factor \n",
    "\n",
    "agent.update_policy(environment.get_episode(), alpha, gamma)\n",
    "on_plolicy_episodes = environment.play(num_episodes, epsilon)\n",
    "average_bankroll, win_rate, average_winnings = environment.calculate_performance_metrics(num_episodes)\n",
    "print(f\"Average Bankroll: {average_bankroll}\")\n",
    "print(f\"Win Rate: {win_rate}\")\n",
    "print(f\"Average Winnings: {average_winnings}\")"
   ]
  },
  {
   "cell_type": "code",
   "execution_count": 45,
   "id": "a6b4d717",
   "metadata": {},
   "outputs": [
    {
     "name": "stdout",
     "output_type": "stream",
     "text": [
      "Welcome to Blackjack!\n",
      "Your current bankroll: 100\n",
      "\n",
      "Thank you for playing Blackjack!\n",
      "Final Bankroll: 0.0\n",
      "Average Bankroll: 98.0188\n",
      "Win Rate: 0.34145\n",
      "Average Winnings: -1.9812\n"
     ]
    }
   ],
   "source": [
    "agent = OnPolicyBlackjackAgent()\n",
    "environment = BlackjackEnvironment()\n",
    "\n",
    "num_episodes = 100000  # number of episodes\n",
    "epsilon = 0.1  # exploration rate\n",
    "alpha = 0.3  # learning rate \n",
    "gamma = 0.9  #discount factor \n",
    "\n",
    "agent.update_policy(environment.get_episode(), alpha, gamma)\n",
    "on_plolicy_episodes = environment.play(num_episodes, epsilon)\n",
    "average_bankroll, win_rate, average_winnings = environment.calculate_performance_metrics(num_episodes)\n",
    "print(f\"Average Bankroll: {average_bankroll}\")\n",
    "print(f\"Win Rate: {win_rate}\")\n",
    "print(f\"Average Winnings: {average_winnings}\")"
   ]
  },
  {
   "cell_type": "code",
   "execution_count": 46,
   "id": "29828169",
   "metadata": {},
   "outputs": [
    {
     "name": "stdout",
     "output_type": "stream",
     "text": [
      "Welcome to Blackjack!\n",
      "Your current bankroll: 100\n",
      "\n",
      "Thank you for playing Blackjack!\n",
      "Final Bankroll: 30.0\n",
      "Average Bankroll: 105.0873\n",
      "Win Rate: 0.35786\n",
      "Average Winnings: 5.0873\n"
     ]
    }
   ],
   "source": [
    "agent = OnPolicyBlackjackAgent()\n",
    "environment = BlackjackEnvironment()\n",
    "\n",
    "num_episodes = 100000  # number of episodes\n",
    "epsilon = 0.1  # exploration rate\n",
    "alpha = 0.5  # learning rate \n",
    "gamma = 0.9  #discount factor \n",
    "\n",
    "agent.update_policy(environment.get_episode(), alpha, gamma)\n",
    "on_plolicy_episodes = environment.play(num_episodes, epsilon)\n",
    "average_bankroll, win_rate, average_winnings = environment.calculate_performance_metrics(num_episodes)\n",
    "print(f\"Average Bankroll: {average_bankroll}\")\n",
    "print(f\"Win Rate: {win_rate}\")\n",
    "print(f\"Average Winnings: {average_winnings}\")"
   ]
  },
  {
   "cell_type": "code",
   "execution_count": 47,
   "id": "fd7fcb70",
   "metadata": {},
   "outputs": [
    {
     "name": "stdout",
     "output_type": "stream",
     "text": [
      "Welcome to Blackjack!\n",
      "Your current bankroll: 100\n",
      "\n",
      "Thank you for playing Blackjack!\n",
      "Final Bankroll: 190.0\n",
      "Average Bankroll: 102.6841\n",
      "Win Rate: 0.354\n",
      "Average Winnings: 2.6841\n"
     ]
    }
   ],
   "source": [
    "agent = OnPolicyBlackjackAgent()\n",
    "environment = BlackjackEnvironment()\n",
    "\n",
    "num_episodes = 100000  # number of episodes\n",
    "epsilon = 0.1  # exploration rate\n",
    "alpha = 0.7  # learning rate \n",
    "gamma = 0.9  #discount factor \n",
    "\n",
    "agent.update_policy(environment.get_episode(), alpha, gamma)\n",
    "on_plolicy_episodes = environment.play(num_episodes, epsilon)\n",
    "average_bankroll, win_rate, average_winnings = environment.calculate_performance_metrics(num_episodes)\n",
    "print(f\"Average Bankroll: {average_bankroll}\")\n",
    "print(f\"Win Rate: {win_rate}\")\n",
    "print(f\"Average Winnings: {average_winnings}\")"
   ]
  },
  {
   "cell_type": "code",
   "execution_count": 48,
   "id": "6d65d91a",
   "metadata": {},
   "outputs": [
    {
     "name": "stdout",
     "output_type": "stream",
     "text": [
      "Welcome to Blackjack!\n",
      "Your current bankroll: 100\n",
      "\n",
      "Thank you for playing Blackjack!\n",
      "Final Bankroll: 280.0\n",
      "Average Bankroll: 115.0641\n",
      "Win Rate: 0.37925\n",
      "Average Winnings: 15.0641\n"
     ]
    }
   ],
   "source": [
    "agent = OnPolicyBlackjackAgent()\n",
    "environment = BlackjackEnvironment()\n",
    "\n",
    "num_episodes = 100000  # number of episodes\n",
    "epsilon = 0.1  # exploration rate\n",
    "alpha = 0.9  # learning rate \n",
    "gamma = 0.9  #discount factor \n",
    "\n",
    "agent.update_policy(environment.get_episode(), alpha, gamma)\n",
    "on_plolicy_episodes = environment.play(num_episodes, epsilon)\n",
    "average_bankroll, win_rate, average_winnings = environment.calculate_performance_metrics(num_episodes)\n",
    "print(f\"Average Bankroll: {average_bankroll}\")\n",
    "print(f\"Win Rate: {win_rate}\")\n",
    "print(f\"Average Winnings: {average_winnings}\")"
   ]
  },
  {
   "cell_type": "markdown",
   "id": "c62e33d4",
   "metadata": {},
   "source": [
    "### 2.2.2 Different Epsilon Values"
   ]
  },
  {
   "cell_type": "code",
   "execution_count": 49,
   "id": "e42b3c21",
   "metadata": {},
   "outputs": [
    {
     "name": "stdout",
     "output_type": "stream",
     "text": [
      "Welcome to Blackjack!\n",
      "Your current bankroll: 100\n",
      "\n",
      "Thank you for playing Blackjack!\n",
      "Final Bankroll: 20.0\n",
      "Average Bankroll: 112.337\n",
      "Win Rate: 0.38578\n",
      "Average Winnings: 12.337\n"
     ]
    }
   ],
   "source": [
    "agent = OnPolicyBlackjackAgent()\n",
    "environment = BlackjackEnvironment()\n",
    "\n",
    "num_episodes = 100000  # number of episodes\n",
    "epsilon = 0.1  # exploration rate\n",
    "alpha = 0.5 # learning rate \n",
    "gamma = 0.9  #discount factor \n",
    "\n",
    "agent.update_policy(environment.get_episode(), alpha, gamma)\n",
    "on_plolicy_episodes = environment.play(num_episodes, epsilon)\n",
    "average_bankroll, win_rate, average_winnings = environment.calculate_performance_metrics(num_episodes)\n",
    "print(f\"Average Bankroll: {average_bankroll}\")\n",
    "print(f\"Win Rate: {win_rate}\")\n",
    "print(f\"Average Winnings: {average_winnings}\")"
   ]
  },
  {
   "cell_type": "code",
   "execution_count": 50,
   "id": "f2efbfb7",
   "metadata": {},
   "outputs": [
    {
     "name": "stdout",
     "output_type": "stream",
     "text": [
      "Welcome to Blackjack!\n",
      "Your current bankroll: 100\n",
      "\n",
      "Thank you for playing Blackjack!\n",
      "Final Bankroll: 170.0\n",
      "Average Bankroll: 101.9384\n",
      "Win Rate: 0.35313\n",
      "Average Winnings: 1.9384\n"
     ]
    }
   ],
   "source": [
    "agent = OnPolicyBlackjackAgent()\n",
    "environment = BlackjackEnvironment()\n",
    "\n",
    "num_episodes = 100000  # number of episodes\n",
    "epsilon = 0.3  # exploration rate\n",
    "alpha = 0.1  # learning rate \n",
    "gamma = 0.9  #discount factor \n",
    "\n",
    "agent.update_policy(environment.get_episode(), alpha, gamma)\n",
    "on_plolicy_episodes = environment.play(num_episodes, epsilon)\n",
    "average_bankroll, win_rate, average_winnings = environment.calculate_performance_metrics(num_episodes)\n",
    "print(f\"Average Bankroll: {average_bankroll}\")\n",
    "print(f\"Win Rate: {win_rate}\")\n",
    "print(f\"Average Winnings: {average_winnings}\")"
   ]
  },
  {
   "cell_type": "code",
   "execution_count": 51,
   "id": "5b48aae2",
   "metadata": {},
   "outputs": [
    {
     "name": "stdout",
     "output_type": "stream",
     "text": [
      "Welcome to Blackjack!\n",
      "Your current bankroll: 100\n",
      "\n",
      "Thank you for playing Blackjack!\n",
      "Final Bankroll: 550.0\n",
      "Average Bankroll: 109.6275\n",
      "Win Rate: 0.3828\n",
      "Average Winnings: 9.6275\n"
     ]
    }
   ],
   "source": [
    "agent = OnPolicyBlackjackAgent()\n",
    "environment = BlackjackEnvironment()\n",
    "\n",
    "num_episodes = 100000  # number of episodes\n",
    "epsilon = 0.5  # exploration rate\n",
    "alpha = 0.1  # learning rate \n",
    "gamma = 0.9  #discount factor \n",
    "\n",
    "agent.update_policy(environment.get_episode(), alpha, gamma)\n",
    "on_plolicy_episodes = environment.play(num_episodes, epsilon)\n",
    "average_bankroll, win_rate, average_winnings = environment.calculate_performance_metrics(num_episodes)\n",
    "print(f\"Average Bankroll: {average_bankroll}\")\n",
    "print(f\"Win Rate: {win_rate}\")\n",
    "print(f\"Average Winnings: {average_winnings}\")"
   ]
  },
  {
   "cell_type": "code",
   "execution_count": 52,
   "id": "f59340c1",
   "metadata": {},
   "outputs": [
    {
     "name": "stdout",
     "output_type": "stream",
     "text": [
      "Welcome to Blackjack!\n",
      "Your current bankroll: 100\n",
      "\n",
      "Thank you for playing Blackjack!\n",
      "Final Bankroll: 40.0\n",
      "Average Bankroll: 119.422\n",
      "Win Rate: 0.38842\n",
      "Average Winnings: 19.422\n"
     ]
    }
   ],
   "source": [
    "agent = OnPolicyBlackjackAgent()\n",
    "environment = BlackjackEnvironment()\n",
    "\n",
    "num_episodes = 100000  # number of episodes\n",
    "epsilon = 0.7  # exploration rate\n",
    "alpha = 0.1  # learning rate \n",
    "gamma = 0.9  #discount factor \n",
    "\n",
    "agent.update_policy(environment.get_episode(), alpha, gamma)\n",
    "on_plolicy_episodes = environment.play(num_episodes, epsilon)\n",
    "average_bankroll, win_rate, average_winnings = environment.calculate_performance_metrics(num_episodes)\n",
    "print(f\"Average Bankroll: {average_bankroll}\")\n",
    "print(f\"Win Rate: {win_rate}\")\n",
    "print(f\"Average Winnings: {average_winnings}\")"
   ]
  },
  {
   "cell_type": "code",
   "execution_count": 53,
   "id": "3ab6cf97",
   "metadata": {},
   "outputs": [
    {
     "name": "stdout",
     "output_type": "stream",
     "text": [
      "Welcome to Blackjack!\n",
      "Your current bankroll: 100\n",
      "\n",
      "Thank you for playing Blackjack!\n",
      "Final Bankroll: 100.0\n",
      "Average Bankroll: 101.0863\n",
      "Win Rate: 0.34292\n",
      "Average Winnings: 1.0863\n"
     ]
    }
   ],
   "source": [
    "agent = OnPolicyBlackjackAgent()\n",
    "environment = BlackjackEnvironment()\n",
    "\n",
    "num_episodes = 100000  # number of episodes\n",
    "epsilon = 0.9  # exploration rate\n",
    "alpha = 0.1  # learning rate \n",
    "gamma = 0.9  #discount factor \n",
    "\n",
    "agent.update_policy(environment.get_episode(), alpha, gamma)\n",
    "on_plolicy_episodes = environment.play(num_episodes, epsilon)\n",
    "average_bankroll, win_rate, average_winnings = environment.calculate_performance_metrics(num_episodes)\n",
    "print(f\"Average Bankroll: {average_bankroll}\")\n",
    "print(f\"Win Rate: {win_rate}\")\n",
    "print(f\"Average Winnings: {average_winnings}\")"
   ]
  },
  {
   "cell_type": "markdown",
   "id": "32bca765",
   "metadata": {},
   "source": [
    "### 2.2.3 Different Discount Factor "
   ]
  },
  {
   "cell_type": "code",
   "execution_count": 54,
   "id": "bb10b2dc",
   "metadata": {},
   "outputs": [
    {
     "name": "stdout",
     "output_type": "stream",
     "text": [
      "Welcome to Blackjack!\n",
      "Your current bankroll: 100\n",
      "\n",
      "Thank you for playing Blackjack!\n",
      "Final Bankroll: 460.0\n",
      "Average Bankroll: 100.8405\n",
      "Win Rate: 0.35019\n",
      "Average Winnings: 0.8405\n"
     ]
    }
   ],
   "source": [
    "agent = OnPolicyBlackjackAgent()\n",
    "environment = BlackjackEnvironment()\n",
    "\n",
    "num_episodes = 100000  # number of episodes\n",
    "epsilon = 0.1  # exploration rate\n",
    "alpha = 0.5  # learning rate \n",
    "gamma = 0.7  #discount factor \n",
    "\n",
    "agent.update_policy(environment.get_episode(), alpha, gamma)\n",
    "on_plolicy_episodes = environment.play(num_episodes, epsilon)\n",
    "average_bankroll, win_rate, average_winnings = environment.calculate_performance_metrics(num_episodes)\n",
    "print(f\"Average Bankroll: {average_bankroll}\")\n",
    "print(f\"Win Rate: {win_rate}\")\n",
    "print(f\"Average Winnings: {average_winnings}\")"
   ]
  },
  {
   "cell_type": "code",
   "execution_count": 55,
   "id": "e462602d",
   "metadata": {},
   "outputs": [
    {
     "name": "stdout",
     "output_type": "stream",
     "text": [
      "Welcome to Blackjack!\n",
      "Your current bankroll: 100\n",
      "\n",
      "Thank you for playing Blackjack!\n",
      "Final Bankroll: 0.0\n",
      "Average Bankroll: 107.7281\n",
      "Win Rate: 0.37859\n",
      "Average Winnings: 7.7281\n"
     ]
    }
   ],
   "source": [
    "agent = OnPolicyBlackjackAgent()\n",
    "environment = BlackjackEnvironment()\n",
    "\n",
    "num_episodes = 100000  # number of episodes\n",
    "epsilon = 0.1  # exploration rate\n",
    "alpha = 0.5  # learning rate \n",
    "gamma = 0.8  #discount factor \n",
    "\n",
    "agent.update_policy(environment.get_episode(), alpha, gamma)\n",
    "on_plolicy_episodes = environment.play(num_episodes, epsilon)\n",
    "average_bankroll, win_rate, average_winnings = environment.calculate_performance_metrics(num_episodes)\n",
    "print(f\"Average Bankroll: {average_bankroll}\")\n",
    "print(f\"Win Rate: {win_rate}\")\n",
    "print(f\"Average Winnings: {average_winnings}\")"
   ]
  },
  {
   "cell_type": "code",
   "execution_count": 56,
   "id": "69c745f4",
   "metadata": {},
   "outputs": [
    {
     "name": "stdout",
     "output_type": "stream",
     "text": [
      "Welcome to Blackjack!\n",
      "Your current bankroll: 100\n",
      "\n",
      "Thank you for playing Blackjack!\n",
      "Final Bankroll: 60.0\n",
      "Average Bankroll: 98.2272\n",
      "Win Rate: 0.35466\n",
      "Average Winnings: -1.7728\n"
     ]
    }
   ],
   "source": [
    "agent = OnPolicyBlackjackAgent()\n",
    "environment = BlackjackEnvironment()\n",
    "\n",
    "num_episodes = 100000  # number of episodes\n",
    "epsilon = 0.1  # exploration rate\n",
    "alpha = 0.5  # learning rate \n",
    "gamma = 0.9  #discount factor \n",
    "\n",
    "agent.update_policy(environment.get_episode(), alpha, gamma)\n",
    "on_plolicy_episodes = environment.play(num_episodes, epsilon)\n",
    "average_bankroll, win_rate, average_winnings = environment.calculate_performance_metrics(num_episodes)\n",
    "print(f\"Average Bankroll: {average_bankroll}\")\n",
    "print(f\"Win Rate: {win_rate}\")\n",
    "print(f\"Average Winnings: {average_winnings}\")"
   ]
  },
  {
   "cell_type": "code",
   "execution_count": 57,
   "id": "20f8f7cf",
   "metadata": {},
   "outputs": [
    {
     "name": "stdout",
     "output_type": "stream",
     "text": [
      "Welcome to Blackjack!\n",
      "Your current bankroll: 100\n",
      "\n",
      "Thank you for playing Blackjack!\n",
      "Final Bankroll: 100.0\n",
      "Average Bankroll: 106.9799\n",
      "Win Rate: 0.36469\n",
      "Average Winnings: 6.9799\n"
     ]
    }
   ],
   "source": [
    "agent = OnPolicyBlackjackAgent()\n",
    "environment = BlackjackEnvironment()\n",
    "\n",
    "num_episodes = 100000  # number of episodes\n",
    "epsilon = 0.1  # exploration rate\n",
    "alpha = 0.5  # learning rate \n",
    "gamma = 0.95  #discount factor \n",
    "\n",
    "agent.update_policy(environment.get_episode(), alpha, gamma)\n",
    "on_plolicy_episodes = environment.play(num_episodes, epsilon)\n",
    "average_bankroll, win_rate, average_winnings = environment.calculate_performance_metrics(num_episodes)\n",
    "print(f\"Average Bankroll: {average_bankroll}\")\n",
    "print(f\"Win Rate: {win_rate}\")\n",
    "print(f\"Average Winnings: {average_winnings}\")"
   ]
  },
  {
   "cell_type": "code",
   "execution_count": 58,
   "id": "411986c4",
   "metadata": {},
   "outputs": [
    {
     "name": "stdout",
     "output_type": "stream",
     "text": [
      "Welcome to Blackjack!\n",
      "Your current bankroll: 100\n",
      "\n",
      "Thank you for playing Blackjack!\n",
      "Final Bankroll: 0.0\n",
      "Average Bankroll: 108.3204\n",
      "Win Rate: 0.37794\n",
      "Average Winnings: 8.3204\n"
     ]
    }
   ],
   "source": [
    "agent = OnPolicyBlackjackAgent()\n",
    "environment = BlackjackEnvironment()\n",
    "\n",
    "num_episodes = 100000  # number of episodes\n",
    "epsilon = 0.1  # exploration rate\n",
    "alpha = 0.5  # learning rate \n",
    "gamma = 0.99  #discount factor \n",
    "\n",
    "agent.update_policy(environment.get_episode(), alpha, gamma)\n",
    "on_plolicy_episodes = environment.play(num_episodes, epsilon)\n",
    "average_bankroll, win_rate, average_winnings = environment.calculate_performance_metrics(num_episodes)\n",
    "print(f\"Average Bankroll: {average_bankroll}\")\n",
    "print(f\"Win Rate: {win_rate}\")\n",
    "print(f\"Average Winnings: {average_winnings}\")"
   ]
  },
  {
   "cell_type": "markdown",
   "id": "a14964ec",
   "metadata": {},
   "source": [
    "## 2.3. Off-Policy"
   ]
  },
  {
   "cell_type": "code",
   "execution_count": 59,
   "id": "bd2a6cb8",
   "metadata": {},
   "outputs": [],
   "source": [
    "class OffPolicyBlackjackAgent:\n",
    "    def __init__(self):\n",
    "        self.Q = {}\n",
    "        self.C = {}\n",
    "\n",
    "    def get_action(self, state, epsilon):\n",
    "        action_values = self.Q.get(state, {})\n",
    "        if action_values:\n",
    "            values = np.array(list(action_values.values()))\n",
    "            probabilities = np.exp(values / epsilon) / np.sum(np.exp(values / epsilon))\n",
    "            actions = list(action_values.keys())\n",
    "            # Return actions and their probabilities\n",
    "            return actions, probabilities  \n",
    "        else:\n",
    "            # Initialize Q-values for unseen state\n",
    "            self.Q[state] = {'hit': 0, 'stand': 0, 'double_down': 0, 'split': 0}  \n",
    "            # Return equal probabilities for all actions\n",
    "            return ['hit', 'stand', 'double_down', 'split'], [0.25, 0.25, 0.25, 0.25]  \n",
    "\n",
    "    def update_policy(self, episodes, alpha, gamma):\n",
    "        for episode in episodes:\n",
    "            if not episode:\n",
    "                continue  \n",
    "\n",
    "            states, actions, rewards = zip(*episode)\n",
    "            G = 0\n",
    "            W = 1  # Importance sampling ratio\n",
    "            for t in reversed(range(len(states))):\n",
    "                state = states[t]\n",
    "                action = actions[t]\n",
    "                reward = rewards[t]\n",
    "                G = gamma * G + reward\n",
    "\n",
    "                self.C[state] = self.C.get(state, {})\n",
    "                self.C[state][action] = self.C[state].get(action, 0) + W\n",
    "                rho = self.get_importance_sampling_ratio(states, actions, t)\n",
    "                alpha_t = alpha / self.C[state][action]\n",
    "                self.Q[state] = self.Q.get(state, {})\n",
    "                self.Q[state][action] = self.Q[state].get(action, 0) + alpha_t * (rho * (G - self.Q[state].get(action, 0)))\n",
    "\n",
    "    def get_importance_sampling_ratio(self, states, actions, t):\n",
    "        rho = 1.0\n",
    "        for i in range(t):\n",
    "            state = states[i]\n",
    "            action = actions[i]\n",
    "            _, behavior_probabilities = self.get_action(state, epsilon)\n",
    "            target_prob = np.exp(self.Q[state][action] / epsilon) / np.sum(np.exp(np.array(list(self.Q[state].values())) / epsilon))\n",
    "            behavior_prob = behavior_probabilities[i]\n",
    "            rho *= target_prob / behavior_prob\n",
    "        return rho\n",
    "   \n"
   ]
  },
  {
   "cell_type": "code",
   "execution_count": 60,
   "id": "645719c4",
   "metadata": {
    "scrolled": false
   },
   "outputs": [
    {
     "name": "stdout",
     "output_type": "stream",
     "text": [
      "Welcome to Blackjack!\n",
      "Your current bankroll: 100\n",
      "\n",
      "Thank you for playing Blackjack!\n",
      "Final Bankroll: 110.0\n",
      "Average Bankroll: 108.99905\n",
      "Win Rate: 0.37514\n",
      "Average Winnings: 8.99905\n"
     ]
    }
   ],
   "source": [
    "agent = OnPolicyBlackjackAgent()\n",
    "environment = BlackjackEnvironment()\n",
    "\n",
    "num_episodes = 200000  # number of episodes\n",
    "epsilon = 0.1  # exploration rate\n",
    "alpha = 0.5  # learning rate \n",
    "gamma = 0.9  #discount factor \n",
    "\n",
    "agent.update_policy(environment.get_episode(), alpha, gamma)\n",
    "off_policy_episodes = environment.play(num_episodes, epsilon)\n",
    "average_bankroll, win_rate, average_winnings = environment.calculate_performance_metrics(num_episodes)\n",
    "print(f\"Average Bankroll: {average_bankroll}\")\n",
    "print(f\"Win Rate: {win_rate}\")\n",
    "print(f\"Average Winnings: {average_winnings}\")"
   ]
  },
  {
   "cell_type": "markdown",
   "id": "2120403a",
   "metadata": {},
   "source": [
    "### 2.3.1. Different Learning Rate "
   ]
  },
  {
   "cell_type": "code",
   "execution_count": 61,
   "id": "183b10cf",
   "metadata": {},
   "outputs": [
    {
     "name": "stdout",
     "output_type": "stream",
     "text": [
      "Welcome to Blackjack!\n",
      "Your current bankroll: 100\n",
      "\n",
      "Thank you for playing Blackjack!\n",
      "Final Bankroll: 60.0\n",
      "Average Bankroll: 105.04105\n",
      "Win Rate: 0.368415\n",
      "Average Winnings: 5.04105\n"
     ]
    }
   ],
   "source": [
    "agent = OnPolicyBlackjackAgent()\n",
    "environment = BlackjackEnvironment()\n",
    "\n",
    "num_episodes = 200000  # number of episodes\n",
    "epsilon = 0.1  # exploration rate\n",
    "alpha = 0.1  # learning rate \n",
    "gamma = 0.9  #discount factor \n",
    "\n",
    "agent.update_policy(environment.get_episode(), alpha, gamma)\n",
    "off_policy_episodes = environment.play(num_episodes, epsilon)\n",
    "average_bankroll, win_rate, average_winnings = environment.calculate_performance_metrics(num_episodes)\n",
    "print(f\"Average Bankroll: {average_bankroll}\")\n",
    "print(f\"Win Rate: {win_rate}\")\n",
    "print(f\"Average Winnings: {average_winnings}\")"
   ]
  },
  {
   "cell_type": "code",
   "execution_count": 62,
   "id": "ece7f714",
   "metadata": {},
   "outputs": [
    {
     "name": "stdout",
     "output_type": "stream",
     "text": [
      "Welcome to Blackjack!\n",
      "Your current bankroll: 100\n",
      "\n",
      "Thank you for playing Blackjack!\n",
      "Final Bankroll: 60.0\n",
      "Average Bankroll: 101.9792\n",
      "Win Rate: 0.355765\n",
      "Average Winnings: 1.9792\n"
     ]
    }
   ],
   "source": [
    "agent = OnPolicyBlackjackAgent()\n",
    "environment = BlackjackEnvironment()\n",
    "\n",
    "num_episodes = 200000  # number of episodes\n",
    "epsilon = 0.1  # exploration rate\n",
    "alpha = 0.3  # learning rate \n",
    "gamma = 0.9  #discount factor \n",
    "\n",
    "agent.update_policy(environment.get_episode(), alpha, gamma)\n",
    "off_policy_episodes = environment.play(num_episodes, epsilon)\n",
    "average_bankroll, win_rate, average_winnings = environment.calculate_performance_metrics(num_episodes)\n",
    "print(f\"Average Bankroll: {average_bankroll}\")\n",
    "print(f\"Win Rate: {win_rate}\")\n",
    "print(f\"Average Winnings: {average_winnings}\")"
   ]
  },
  {
   "cell_type": "code",
   "execution_count": 63,
   "id": "6eaada7e",
   "metadata": {},
   "outputs": [
    {
     "name": "stdout",
     "output_type": "stream",
     "text": [
      "Welcome to Blackjack!\n",
      "Your current bankroll: 100\n",
      "\n",
      "Thank you for playing Blackjack!\n",
      "Final Bankroll: 110.0\n",
      "Average Bankroll: 107.27355\n",
      "Win Rate: 0.36386\n",
      "Average Winnings: 7.27355\n"
     ]
    }
   ],
   "source": [
    "agent = OnPolicyBlackjackAgent()\n",
    "environment = BlackjackEnvironment()\n",
    "\n",
    "num_episodes = 200000  # number of episodes\n",
    "epsilon = 0.1  # exploration rate\n",
    "alpha = 0.5  # learning rate \n",
    "gamma = 0.9  #discount factor \n",
    "\n",
    "agent.update_policy(environment.get_episode(), alpha, gamma)\n",
    "off_policy_episodes = environment.play(num_episodes, epsilon)\n",
    "average_bankroll, win_rate, average_winnings = environment.calculate_performance_metrics(num_episodes)\n",
    "print(f\"Average Bankroll: {average_bankroll}\")\n",
    "print(f\"Win Rate: {win_rate}\")\n",
    "print(f\"Average Winnings: {average_winnings}\")"
   ]
  },
  {
   "cell_type": "code",
   "execution_count": 64,
   "id": "afef6a87",
   "metadata": {},
   "outputs": [
    {
     "name": "stdout",
     "output_type": "stream",
     "text": [
      "Welcome to Blackjack!\n",
      "Your current bankroll: 100\n",
      "\n",
      "Thank you for playing Blackjack!\n",
      "Final Bankroll: 40.0\n",
      "Average Bankroll: 102.94905\n",
      "Win Rate: 0.35407\n",
      "Average Winnings: 2.94905\n"
     ]
    }
   ],
   "source": [
    "agent = OnPolicyBlackjackAgent()\n",
    "environment = BlackjackEnvironment()\n",
    "\n",
    "num_episodes = 200000  # number of episodes\n",
    "epsilon = 0.1  # exploration rate\n",
    "alpha = 0.7  # learning rate \n",
    "gamma = 0.9  #discount factor \n",
    "\n",
    "agent.update_policy(environment.get_episode(), alpha, gamma)\n",
    "off_policy_episodes = environment.play(num_episodes, epsilon)\n",
    "average_bankroll, win_rate, average_winnings = environment.calculate_performance_metrics(num_episodes)\n",
    "print(f\"Average Bankroll: {average_bankroll}\")\n",
    "print(f\"Win Rate: {win_rate}\")\n",
    "print(f\"Average Winnings: {average_winnings}\")"
   ]
  },
  {
   "cell_type": "code",
   "execution_count": 65,
   "id": "4c1b08a3",
   "metadata": {},
   "outputs": [
    {
     "name": "stdout",
     "output_type": "stream",
     "text": [
      "Welcome to Blackjack!\n",
      "Your current bankroll: 100\n",
      "\n",
      "Thank you for playing Blackjack!\n",
      "Final Bankroll: 40.0\n",
      "Average Bankroll: 100.88705\n",
      "Win Rate: 0.354295\n",
      "Average Winnings: 0.88705\n"
     ]
    }
   ],
   "source": [
    "agent = OnPolicyBlackjackAgent()\n",
    "environment = BlackjackEnvironment()\n",
    "\n",
    "num_episodes = 200000  # number of episodes\n",
    "epsilon = 0.1  # exploration rate\n",
    "alpha = 0.9  # learning rate \n",
    "gamma = 0.9  #discount factor \n",
    "\n",
    "agent.update_policy(environment.get_episode(), alpha, gamma)\n",
    "off_policy_episodes = environment.play(num_episodes, epsilon)\n",
    "average_bankroll, win_rate, average_winnings = environment.calculate_performance_metrics(num_episodes)\n",
    "print(f\"Average Bankroll: {average_bankroll}\")\n",
    "print(f\"Win Rate: {win_rate}\")\n",
    "print(f\"Average Winnings: {average_winnings}\")"
   ]
  },
  {
   "cell_type": "markdown",
   "id": "ebc1ca20",
   "metadata": {},
   "source": [
    "### 2.3.2 Different Epsilon Value"
   ]
  },
  {
   "cell_type": "code",
   "execution_count": 66,
   "id": "163d66a5",
   "metadata": {},
   "outputs": [
    {
     "name": "stdout",
     "output_type": "stream",
     "text": [
      "Welcome to Blackjack!\n",
      "Your current bankroll: 100\n",
      "\n",
      "Thank you for playing Blackjack!\n",
      "Final Bankroll: 30.0\n",
      "Average Bankroll: 103.2816\n",
      "Win Rate: 0.355375\n",
      "Average Winnings: 3.2816\n"
     ]
    }
   ],
   "source": [
    "agent = OnPolicyBlackjackAgent()\n",
    "environment = BlackjackEnvironment()\n",
    "\n",
    "num_episodes = 200000  # number of episodes\n",
    "epsilon = 0.1  # exploration rate\n",
    "alpha = 0.5  # learning rate \n",
    "gamma = 0.9  #discount factor \n",
    "\n",
    "agent.update_policy(environment.get_episode(), alpha, gamma)\n",
    "off_policy_episodes = environment.play(num_episodes, epsilon)\n",
    "average_bankroll, win_rate, average_winnings = environment.calculate_performance_metrics(num_episodes)\n",
    "print(f\"Average Bankroll: {average_bankroll}\")\n",
    "print(f\"Win Rate: {win_rate}\")\n",
    "print(f\"Average Winnings: {average_winnings}\")"
   ]
  },
  {
   "cell_type": "code",
   "execution_count": 67,
   "id": "286e53c9",
   "metadata": {},
   "outputs": [
    {
     "name": "stdout",
     "output_type": "stream",
     "text": [
      "Welcome to Blackjack!\n",
      "Your current bankroll: 100\n",
      "\n",
      "Thank you for playing Blackjack!\n",
      "Final Bankroll: 40.0\n",
      "Average Bankroll: 113.26915\n",
      "Win Rate: 0.381445\n",
      "Average Winnings: 13.26915\n"
     ]
    }
   ],
   "source": [
    "agent = OnPolicyBlackjackAgent()\n",
    "environment = BlackjackEnvironment()\n",
    "\n",
    "num_episodes = 200000  # number of episodes\n",
    "epsilon = 0.3  # exploration rate\n",
    "alpha = 0.5  # learning rate \n",
    "gamma = 0.9  #discount factor \n",
    "\n",
    "agent.update_policy(environment.get_episode(), alpha, gamma)\n",
    "off_policy_episodes = environment.play(num_episodes, epsilon)\n",
    "average_bankroll, win_rate, average_winnings = environment.calculate_performance_metrics(num_episodes)\n",
    "print(f\"Average Bankroll: {average_bankroll}\")\n",
    "print(f\"Win Rate: {win_rate}\")\n",
    "print(f\"Average Winnings: {average_winnings}\")"
   ]
  },
  {
   "cell_type": "code",
   "execution_count": 68,
   "id": "c26df177",
   "metadata": {},
   "outputs": [
    {
     "name": "stdout",
     "output_type": "stream",
     "text": [
      "Welcome to Blackjack!\n",
      "Your current bankroll: 100\n",
      "\n",
      "Thank you for playing Blackjack!\n",
      "Final Bankroll: 60.0\n",
      "Average Bankroll: 109.821\n",
      "Win Rate: 0.37685\n",
      "Average Winnings: 9.821\n"
     ]
    }
   ],
   "source": [
    "agent = OnPolicyBlackjackAgent()\n",
    "environment = BlackjackEnvironment()\n",
    "\n",
    "num_episodes = 200000  # number of episodes\n",
    "epsilon = 0.5  # exploration rate\n",
    "alpha = 0.5  # learning rate \n",
    "gamma = 0.9  #discount factor \n",
    "\n",
    "agent.update_policy(environment.get_episode(), alpha, gamma)\n",
    "off_policy_episodes = environment.play(num_episodes, epsilon)\n",
    "average_bankroll, win_rate, average_winnings = environment.calculate_performance_metrics(num_episodes)\n",
    "print(f\"Average Bankroll: {average_bankroll}\")\n",
    "print(f\"Win Rate: {win_rate}\")\n",
    "print(f\"Average Winnings: {average_winnings}\")"
   ]
  },
  {
   "cell_type": "code",
   "execution_count": 69,
   "id": "b90110ee",
   "metadata": {},
   "outputs": [
    {
     "name": "stdout",
     "output_type": "stream",
     "text": [
      "Welcome to Blackjack!\n",
      "Your current bankroll: 100\n",
      "\n",
      "Thank you for playing Blackjack!\n",
      "Final Bankroll: 330.0\n",
      "Average Bankroll: 105.32665\n",
      "Win Rate: 0.36168\n",
      "Average Winnings: 5.32665\n"
     ]
    }
   ],
   "source": [
    "agent = OnPolicyBlackjackAgent()\n",
    "environment = BlackjackEnvironment()\n",
    "\n",
    "num_episodes = 200000  # number of episodes\n",
    "epsilon = 0.7  # exploration rate\n",
    "alpha = 0.5  # learning rate \n",
    "gamma = 0.9  #discount factor \n",
    "\n",
    "agent.update_policy(environment.get_episode(), alpha, gamma)\n",
    "off_policy_episodes = environment.play(num_episodes, epsilon)\n",
    "average_bankroll, win_rate, average_winnings = environment.calculate_performance_metrics(num_episodes)\n",
    "print(f\"Average Bankroll: {average_bankroll}\")\n",
    "print(f\"Win Rate: {win_rate}\")\n",
    "print(f\"Average Winnings: {average_winnings}\")"
   ]
  },
  {
   "cell_type": "code",
   "execution_count": 70,
   "id": "4870b6fc",
   "metadata": {},
   "outputs": [
    {
     "name": "stdout",
     "output_type": "stream",
     "text": [
      "Welcome to Blackjack!\n",
      "Your current bankroll: 100\n",
      "\n",
      "Thank you for playing Blackjack!\n",
      "Final Bankroll: 130.0\n",
      "Average Bankroll: 102.76265\n",
      "Win Rate: 0.35343\n",
      "Average Winnings: 2.76265\n"
     ]
    }
   ],
   "source": [
    "agent = OnPolicyBlackjackAgent()\n",
    "environment = BlackjackEnvironment()\n",
    "\n",
    "num_episodes = 200000  # number of episodes\n",
    "epsilon = 0.9  # exploration rate\n",
    "alpha = 0.5  # learning rate \n",
    "gamma = 0.9  #discount factor \n",
    "\n",
    "agent.update_policy(environment.get_episode(), alpha, gamma)\n",
    "off_policy_episodes = environment.play(num_episodes, epsilon)\n",
    "average_bankroll, win_rate, average_winnings = environment.calculate_performance_metrics(num_episodes)\n",
    "print(f\"Average Bankroll: {average_bankroll}\")\n",
    "print(f\"Win Rate: {win_rate}\")\n",
    "print(f\"Average Winnings: {average_winnings}\")"
   ]
  },
  {
   "cell_type": "markdown",
   "id": "906b1430",
   "metadata": {},
   "source": [
    "### 3.3.3. Different Discount Factor"
   ]
  },
  {
   "cell_type": "code",
   "execution_count": 71,
   "id": "f7a851bf",
   "metadata": {},
   "outputs": [
    {
     "name": "stdout",
     "output_type": "stream",
     "text": [
      "Welcome to Blackjack!\n",
      "Your current bankroll: 100\n",
      "\n",
      "Thank you for playing Blackjack!\n",
      "Final Bankroll: 70.0\n",
      "Average Bankroll: 104.2413\n",
      "Win Rate: 0.357595\n",
      "Average Winnings: 4.2413\n"
     ]
    }
   ],
   "source": [
    "agent = OnPolicyBlackjackAgent()\n",
    "environment = BlackjackEnvironment()\n",
    "\n",
    "num_episodes = 200000  # number of episodes\n",
    "epsilon = 0.1  # exploration rate\n",
    "alpha = 0.5  # learning rate \n",
    "gamma = 0.7  #discount factor \n",
    "\n",
    "agent.update_policy(environment.get_episode(), alpha, gamma)\n",
    "off_policy_episodes = environment.play(num_episodes, epsilon)\n",
    "average_bankroll, win_rate, average_winnings = environment.calculate_performance_metrics(num_episodes)\n",
    "print(f\"Average Bankroll: {average_bankroll}\")\n",
    "print(f\"Win Rate: {win_rate}\")\n",
    "print(f\"Average Winnings: {average_winnings}\")"
   ]
  },
  {
   "cell_type": "code",
   "execution_count": 72,
   "id": "4780bbd5",
   "metadata": {},
   "outputs": [
    {
     "name": "stdout",
     "output_type": "stream",
     "text": [
      "Welcome to Blackjack!\n",
      "Your current bankroll: 100\n",
      "\n",
      "Thank you for playing Blackjack!\n",
      "Final Bankroll: 60.0\n",
      "Average Bankroll: 108.79995\n",
      "Win Rate: 0.369615\n",
      "Average Winnings: 8.79995\n"
     ]
    }
   ],
   "source": [
    "agent = OnPolicyBlackjackAgent()\n",
    "environment = BlackjackEnvironment()\n",
    "\n",
    "num_episodes = 200000  # number of episodes\n",
    "epsilon = 0.1  # exploration rate\n",
    "alpha = 0.5  # learning rate \n",
    "gamma = 0.8  #discount factor \n",
    "\n",
    "agent.update_policy(environment.get_episode(), alpha, gamma)\n",
    "off_policy_episodes = environment.play(num_episodes, epsilon)\n",
    "average_bankroll, win_rate, average_winnings = environment.calculate_performance_metrics(num_episodes)\n",
    "print(f\"Average Bankroll: {average_bankroll}\")\n",
    "print(f\"Win Rate: {win_rate}\")\n",
    "print(f\"Average Winnings: {average_winnings}\")"
   ]
  },
  {
   "cell_type": "code",
   "execution_count": 73,
   "id": "5cba90c4",
   "metadata": {},
   "outputs": [
    {
     "name": "stdout",
     "output_type": "stream",
     "text": [
      "Welcome to Blackjack!\n",
      "Your current bankroll: 100\n",
      "\n",
      "Thank you for playing Blackjack!\n",
      "Final Bankroll: 0.0\n",
      "Average Bankroll: 98.7933\n",
      "Win Rate: 0.33358\n",
      "Average Winnings: -1.2067\n"
     ]
    }
   ],
   "source": [
    "agent = OnPolicyBlackjackAgent()\n",
    "environment = BlackjackEnvironment()\n",
    "\n",
    "num_episodes = 200000  # number of episodes\n",
    "epsilon = 0.1  # exploration rate\n",
    "alpha = 0.5  # learning rate \n",
    "gamma = 0.9  #discount factor \n",
    "\n",
    "agent.update_policy(environment.get_episode(), alpha, gamma)\n",
    "off_policy_episodes = environment.play(num_episodes, epsilon)\n",
    "average_bankroll, win_rate, average_winnings = environment.calculate_performance_metrics(num_episodes)\n",
    "print(f\"Average Bankroll: {average_bankroll}\")\n",
    "print(f\"Win Rate: {win_rate}\")\n",
    "print(f\"Average Winnings: {average_winnings}\")"
   ]
  },
  {
   "cell_type": "code",
   "execution_count": 74,
   "id": "dd082e3e",
   "metadata": {},
   "outputs": [
    {
     "name": "stdout",
     "output_type": "stream",
     "text": [
      "Welcome to Blackjack!\n",
      "Your current bankroll: 100\n",
      "\n",
      "Thank you for playing Blackjack!\n",
      "Final Bankroll: 40.0\n",
      "Average Bankroll: 107.27365\n",
      "Win Rate: 0.372805\n",
      "Average Winnings: 7.27365\n"
     ]
    }
   ],
   "source": [
    "agent = OnPolicyBlackjackAgent()\n",
    "environment = BlackjackEnvironment()\n",
    "\n",
    "num_episodes = 200000  # number of episodes\n",
    "epsilon = 0.1  # exploration rate\n",
    "alpha = 0.5  # learning rate \n",
    "gamma = 0.95  #discount factor \n",
    "\n",
    "agent.update_policy(environment.get_episode(), alpha, gamma)\n",
    "off_policy_episodes = environment.play(num_episodes, epsilon)\n",
    "average_bankroll, win_rate, average_winnings = environment.calculate_performance_metrics(num_episodes)\n",
    "print(f\"Average Bankroll: {average_bankroll}\")\n",
    "print(f\"Win Rate: {win_rate}\")\n",
    "print(f\"Average Winnings: {average_winnings}\")"
   ]
  },
  {
   "cell_type": "code",
   "execution_count": 75,
   "id": "5426e95c",
   "metadata": {},
   "outputs": [
    {
     "name": "stdout",
     "output_type": "stream",
     "text": [
      "Welcome to Blackjack!\n",
      "Your current bankroll: 100\n",
      "\n",
      "Thank you for playing Blackjack!\n",
      "Final Bankroll: 0.0\n",
      "Average Bankroll: 102.8461\n",
      "Win Rate: 0.356935\n",
      "Average Winnings: 2.8461\n"
     ]
    }
   ],
   "source": [
    "agent = OnPolicyBlackjackAgent()\n",
    "environment = BlackjackEnvironment()\n",
    "\n",
    "num_episodes = 200000  # number of episodes\n",
    "epsilon = 0.1  # exploration rate\n",
    "alpha = 0.5  # learning rate \n",
    "gamma = 0.99  #discount factor \n",
    "\n",
    "agent.update_policy(environment.get_episode(), alpha, gamma)\n",
    "off_policy_episodes = environment.play(num_episodes, epsilon)\n",
    "average_bankroll, win_rate, average_winnings = environment.calculate_performance_metrics(num_episodes)\n",
    "print(f\"Average Bankroll: {average_bankroll}\")\n",
    "print(f\"Win Rate: {win_rate}\")\n",
    "print(f\"Average Winnings: {average_winnings}\")"
   ]
  },
  {
   "cell_type": "markdown",
   "id": "5c8da375",
   "metadata": {},
   "source": [
    "## Plot Basic strategy "
   ]
  },
  {
   "cell_type": "code",
   "execution_count": 76,
   "id": "a8aa3ea6",
   "metadata": {},
   "outputs": [
    {
     "data": {
      "image/png": "[encoded data removed]",
      "text/plain": [
       "<Figure size 640x480 with 1 Axes>"
      ]
     },
     "metadata": {},
     "output_type": "display_data"
    }
   ],
   "source": [
    "plot_cumulative_rewards(on_policy_episodes, off_policy_episodes)"
   ]
  },
  {
   "cell_type": "code",
   "execution_count": null,
   "id": "18e49c6f",
   "metadata": {},
   "outputs": [],
   "source": []
  }
 ],
 "metadata": {
  "kernelspec": {
   "display_name": "Python 3 (ipykernel)",
   "language": "python",
   "name": "python3"
  },
  "language_info": {
   "codemirror_mode": {
    "name": "ipython",
    "version": 3
   },
   "file_extension": ".py",
   "mimetype": "text/x-python",
   "name": "python",
   "nbconvert_exporter": "python",
   "pygments_lexer": "ipython3",
   "version": "3.11.0"
  }
 },
 "nbformat": 4,
 "nbformat_minor": 5
}
